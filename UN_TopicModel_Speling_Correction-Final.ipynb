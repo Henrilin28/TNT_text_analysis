{
 "cells": [
  {
   "cell_type": "code",
   "execution_count": null,
   "metadata": {
    "collapsed": false
   },
   "outputs": [],
   "source": [
    "from TNT_Api import TNT_Api\n",
    "UN = TNT_Api(tag='聯合國',nlimit=10000)"
   ]
  },
  {
   "cell_type": "code",
   "execution_count": null,
   "metadata": {
    "collapsed": false
   },
   "outputs": [
    {
     "name": "stdout",
     "output_type": "stream",
     "text": [
      "1377 documents found in tag 聯合國\n",
      "downloading, 10000 to go\n",
      "0 data downloaded\n",
      "error: <class 'KeyboardInterrupt'>\n",
      "100 data downloaded\n",
      "error: <class 'KeyboardInterrupt'>\n",
      "error: <class 'KeyboardInterrupt'>\n"
     ]
    }
   ],
   "source": [
    "UN.get_data()"
   ]
  },
  {
   "cell_type": "code",
   "execution_count": null,
   "metadata": {
    "collapsed": false
   },
   "outputs": [],
   "source": [
    "## Simple Cleaning and Spelling Correction\n",
    "ocr = UN.ocr.copy().reset_index()\n",
    "def replace_line_change(t):\n",
    "    if len(t)>0: return t[0].replace('\\n',' ')\n",
    "    else: return None\n",
    "ocr['ocr_text'] = ocr.ocr.map(replace_line_change,na_action='ignore')"
   ]
  },
  {
   "cell_type": "code",
   "execution_count": null,
   "metadata": {
    "collapsed": true
   },
   "outputs": [],
   "source": [
    "## Remove non-English\n",
    "from langdetect import detect, DetectorFactory\n",
    "from langdetect import detect_langs\n",
    "DetectorFactory.seed =0 \n",
    "def remove_non_eng(text):\n",
    "    if detect(text)=='en':return text\n",
    "    else: return None\n",
    "ocr['ocr_eng'] = ocr.ocr_text.map(remove_non_eng,na_action='ignore')"
   ]
  },
  {
   "cell_type": "code",
   "execution_count": null,
   "metadata": {
    "collapsed": false
   },
   "outputs": [],
   "source": [
    "ocr = ocr.dropna(axis=0,how='any')"
   ]
  },
  {
   "cell_type": "code",
   "execution_count": null,
   "metadata": {
    "collapsed": true
   },
   "outputs": [],
   "source": [
    "ocr.to_csv('data/UN_raw.csv')"
   ]
  },
  {
   "cell_type": "markdown",
   "metadata": {},
   "source": [
    "### Check Point"
   ]
  },
  {
   "cell_type": "code",
   "execution_count": 1,
   "metadata": {
    "collapsed": false
   },
   "outputs": [],
   "source": [
    "import enchant\n",
    "import spelling_correction as sc\n",
    "import numpy as np\n",
    "import pandas as pd\n",
    "ocr = pd.read_csv('data/UN_raw.csv')\n",
    "chkr = enchant.Dict('en_US')"
   ]
  },
  {
   "cell_type": "code",
   "execution_count": 2,
   "metadata": {
    "collapsed": false
   },
   "outputs": [],
   "source": [
    "import numpy as np\n",
    "test = ocr.ocr_eng.copy()\n",
    "def check_mis_spell(text):\n",
    "    mis_rate = np.sum([chkr.check(w) for w in sc.words(text)])/len(sc.words(text))\n",
    "    return mis_rate\n",
    "mis_rate = test.map(check_mis_spell,na_action='ignore')"
   ]
  },
  {
   "cell_type": "code",
   "execution_count": 3,
   "metadata": {
    "collapsed": false
   },
   "outputs": [
    {
     "data": {
      "text/plain": [
       "count    1284.000000\n",
       "mean        0.745149\n",
       "std         0.129976\n",
       "min         0.142857\n",
       "25%         0.648372\n",
       "50%         0.763583\n",
       "75%         0.849270\n",
       "max         1.000000\n",
       "Name: ocr_eng, dtype: float64"
      ]
     },
     "execution_count": 3,
     "metadata": {},
     "output_type": "execute_result"
    }
   ],
   "source": [
    "mis_rate.describe()"
   ]
  },
  {
   "cell_type": "code",
   "execution_count": 4,
   "metadata": {
    "collapsed": false
   },
   "outputs": [
    {
     "name": "stdout",
     "output_type": "stream",
     "text": [
      "There are total 1284 documents and 2199153 words\n"
     ]
    }
   ],
   "source": [
    "text_length = test.map(len,na_action='ignore')\n",
    "total_words = text_length.sum()\n",
    "print ('There are total {:d} documents and {:d} words'.format(len(text_length),text_length.sum()))"
   ]
  },
  {
   "cell_type": "code",
   "execution_count": 71,
   "metadata": {
    "collapsed": false,
    "scrolled": true
   },
   "outputs": [
    {
     "name": "stdout",
     "output_type": "stream",
     "text": [
      "Spelling Correction Sample\n",
      "activitis---->activities\n",
      "por---->for\n",
      "rgional---->regional\n",
      "funetion---->function\n",
      "vill---->vill\n",
      "aselet---->asleep\n",
      "reglonel---->regional\n",
      "mediea1---->mediea1\n",
      "orricer---->officer\n",
      "aurvey---->survey\n",
      "nureing---->nursing\n",
      "heip---->help\n",
      "allovlate---->alleviate\n",
      "problons---->problems\n",
      "pose1ble---->pose1ble\n",
      "aust---->must\n",
      "eoneernod---->eoneernod\n",
      "prepent---->present\n",
      "eitunt---->extent\n",
      "eitustion---->situation\n",
      "pereonnel---->personnel\n",
      "oquipaent---->equipment\n",
      "cnrra---->carry\n",
      "progran---->program\n",
      "eupplies---->supplies\n",
      "becoso---->become\n",
      "inetance---->instance\n",
      "bospi---->bosom\n",
      "pediatrie---->pediatrie\n",
      "nuree---->nurse\n",
      "treining---->training\n",
      "hend---->hand\n",
      "opd---->old\n",
      "direetortbrina2d4ngeabahodnoatiog---->direetortbrina2d4ngeabahodnoatiog\n",
      "twha---->the\n",
      "eno---->no\n",
      "basie---->base\n",
      "euppltes---->supplies\n",
      "noeded---->needed\n",
      "renember---->remember\n",
      "slways---->always\n",
      "suffieient---->sufficient\n",
      "s11---->s11\n",
      "needa---->need\n",
      "terna---->ten\n",
      "nd---->nd\n",
      "rer---->her\n",
      "zse---->use\n",
      "ceatre---->centre\n",
      "wi1l---->wi1l\n",
      "uneover---->uncover\n",
      "probaans---->probaans\n",
      "nodical---->radical\n",
      "aidwifery---->aidwifery\n",
      "pereon---->person\n",
      "discass---->discuss\n",
      "diseovorios---->diseovorios\n",
      "withb---->with\n",
      "redienl---->redienl\n",
      "contaat---->contact\n",
      "aartoda---->aartoda\n",
      "dharge---->charge\n",
      "narsi---->nasi\n",
      "ppobbeno---->ppobbeno\n",
      "pereonnel---->personnel\n",
      "nureing---->nursing\n",
      "attendente---->attendance\n",
      "equipsent1inon---->equipsent1inon\n",
      "dreceings---->dressings\n",
      "nutritionstafr---->nutritionstafr\n",
      "etudente---->student\n",
      "petiente---->patient\n",
      "contaet---->contact\n",
      "naree---->nares\n",
      "eharge---->charge\n",
      "nurees---->nurses\n",
      "learo---->learn\n",
      "ber---->be\n",
      "nnd---->and\n",
      "pereonnel---->personnel\n",
      "quipment---->equipment\n",
      "teachine---->teaching\n",
      "elnssrooms---->elnssrooms\n",
      "deonstration---->demonstration\n",
      "equipsent---->equipment\n",
      "henlth---->health\n",
      "studente---->student\n",
      "physien---->physics\n",
      "exoniuation---->exoniuation\n",
      "ine---->in\n",
      "flouroseops---->flouroseops\n",
      "henoglobin---->haemoglobin\n",
      "poriodie---->periodic\n",
      "weie---->were\n",
      "1mnizntions---->1mnizntions\n",
      "agn---->an\n",
      "inet---->net\n",
      "specifie---->specific\n",
      "querters---->quarters\n",
      "etudy---->study\n",
      "ing---->ing\n",
      "contaet---->contact\n",
      "naree---->nares\n",
      "ofd---->of\n",
      "lnhrn---->learn\n",
      "pedbleca---->pedbleca\n",
      "selg---->self\n",
      "elinic---->clinic\n",
      "seseion---->session\n",
      "soet---->set\n",
      "ines---->lines\n",
      "ith---->it\n",
      "ao---->to\n",
      "liutle---->little\n",
      "outiay---->mutiny\n",
      "arrengesent---->arrangement\n",
      "couisunicable---->couisunicable\n",
      "disonee---->disobey\n",
      "pationt---->patient\n",
      "snother---->another\n",
      "cen---->men\n",
      "bo---->to\n",
      "overerowding---->overcrowding\n",
      "eellophene---->eellophene\n",
      "o11---->o11\n",
      "peper---->paper\n",
      "cardboerd---->cardboard\n",
      "te---->te\n",
      "aso---->as\n",
      "ei---->i\n",
      "arette---->pretty\n",
      "dreine---->drive\n",
      "vertous---->various\n",
      "improvieations---->improvisations\n",
      "nursen---->nurse\n",
      "aste---->haste\n",
      "iatorantion---->iatorantion\n",
      "nureing---->nursing\n",
      "teehniquos---->teehniquos\n",
      "eisplified---->eisplified\n",
      "este---->est\n",
      "0ive---->0ive\n",
      "thlks---->talks\n",
      "nurees---->nurses\n",
      "bsir---->sir\n",
      "offorta---->effort\n",
      "dnd---->and\n",
      "atiulating---->stimulating\n",
      "atinulate---->stimulate\n",
      "uureo---->sure\n",
      "40better---->40better\n",
      "tthwhat---->tthwhat\n",
      "bre---->be\n",
      "nite---->note\n",
      "nurti---->north\n",
      "nd---->nd\n",
      "naraiag---->naraiag\n",
      "oduention---->oduention\n",
      "rosovil---->rosovil\n",
      "alnts---->ants\n",
      "ander---->under\n",
      "prevout---->prevent\n",
      "bethine---->bethink\n",
      "cere---->were\n",
      "provent---->prevent\n",
      "bedsoree---->bedsoree\n",
      "botter---->better\n",
      "ietribation---->retribution\n",
      "ellocution---->elocution\n",
      "prerest---->present\n",
      "infeetions---->infections\n",
      "obstetrie---->obstetrie\n",
      "eord---->word\n",
      "instanco---->instance\n",
      "stinilete---->stinilete\n",
      "aursos---->across\n",
      "teke---->take\n",
      "bedeide---->bedside\n",
      "nare---->are\n",
      "ing---->ing\n",
      "sna---->sea\n",
      "eaperviso---->eaperviso\n",
      "attendente---->attendance\n",
      "chingshu---->chingshu\n",
      "taitung---->waiting\n",
      "headwork---->headwork\n",
      "lichia---->lichen\n",
      "peinan---->penn\n",
      "chihpen---->chicken\n",
      "wrpc---->wept\n",
      "tawa---->tafa\n",
      "pingtung---->pingtung\n",
      "anuary---->january\n",
      "ohie---->ohio\n",
      "laepeetor---->laepeetor\n",
      "dora---->dora\n",
      "gpede---->speed\n",
      "sspeotor---->sspeotor\n",
      "1arpeetor---->1arpeetor\n",
      "tha---->the\n",
      "additiona2---->additiona2\n",
      "organiantion---->organization\n",
      "raonacy---->raonacy\n",
      "meiatained---->maintained\n",
      "grede---->grade\n",
      "celfsre---->welfare\n",
      "buresul---->bureau\n",
      "iegional---->regional\n",
      "progres---->progress\n",
      "doss---->does\n",
      "justity---->justify\n",
      "regl---->real\n",
      "osal---->oval\n",
      "raashee---->rashes\n",
      "orr1oor---->orr1oor\n",
      "strundlloj---->strundlloj\n",
      "tad瘕grade---->tad瘕grade\n",
      "acoountont---->accountant\n",
      "gonsa---->sonya\n",
      "injustion---->injection\n",
      "doae---->done\n",
      "greded---->greed\n",
      "wuld---->would\n",
      "ment---->men\n",
      "de---->de\n",
      "thet---->the\n",
      "nould---->would\n",
      "preveat---->prevent\n",
      "theird---->their\n",
      "ead---->had\n",
      "semerliag---->semerliag\n",
      "sxseu---->sxseu\n",
      "tive---->time\n",
      "orricer---->officer\n",
      "dedlared---->declared\n",
      "eurplasi---->eurplasi\n",
      "stundl1e---->stundl1e\n",
      "orade---->trade\n",
      "hegionel---->regional\n",
      "fisesee---->foresee\n",
      "oft1---->oft1\n",
      "cer---->her\n",
      "oooupy---->occupy\n",
      "orede---->free\n",
      "xeoutáve---->xeoutáve\n",
      "orni---->on\n",
      "oer---->or\n",
      "poeition---->position\n",
      "gomes---->comes\n",
      "gyade---->grade\n",
      "adot---->adopt\n",
      "aseountat---->aseountat\n",
      "ooeupy---->occupy\n",
      "poeition---->position\n",
      "2hts---->2hts\n",
      "rrsageneat---->rrsageneat\n",
      "vasaney---->vacancy\n",
      "personse2---->personse2\n",
      "p1acemant---->p1acemant\n",
      "divieion---->division\n",
      "reenmmende---->reenmmende\n",
      "thet---->the\n",
      "2osller---->2osller\n",
      "grede---->grade\n",
      "adninis---->adenitis\n",
      "treti---->truth\n",
      "ve---->ve\n",
      "sesiatent---->sesiatent\n",
      "los---->los\n",
      "crede---->crude\n",
      "ldminietrative---->administrative\n",
      "lgsintant---->lgsintant\n",
      "reteia---->retain\n",
      "crade---->trade\n",
      "ead---->had\n",
      "reoomends---->recommends\n",
      "cemott---->remote\n",
      "seeretary---->secretary\n",
      "inetead---->instead\n",
      "crade---->trade\n",
      "glark---->clark\n",
      "stesogme---->stesogme\n",
      "phere---->there\n",
      "yunlin---->muslin\n",
      "changhua---->changhua\n",
      "clamation---->reclamation\n",
      "yunlin---->muslin\n",
      "ment---->men\n",
      "taiwan---->taiwan\n",
      "oct---->oct\n",
      "mtle---->male\n",
      "nicol---->nice\n",
      "hudson---->hudson\n",
      "kivisild---->kivisild\n",
      "forsmanhydrology---->forsmanhydrology\n",
      "thomas---->thomas\n",
      "oct---->oct\n",
      "dec---->dec\n",
      "feb---->feb\n",
      "apr---->air\n",
      "apr---->air\n",
      "apr---->air\n",
      "sedimenta---->sediment\n",
      "tion---->tin\n",
      "ment---->men\n",
      "iten---->ten\n",
      "phonoborbital---->phonoborbital\n",
      "sagrada---->sagrada\n",
      "glycyrrhiza---->glycyrrhiza\n",
      "tno---->to\n",
      "hosps---->hosts\n",
      "strophantus---->strophanthus\n",
      "conp---->cone\n",
      "capsieun---->capsicum\n",
      "bolladonna---->belladonna\n",
      "hyoscyamus---->hyoscyamus\n",
      "cardamon---->cardamon\n",
      "bce---->be\n",
      "benjoin---->enjoin\n",
      "merthiolate---->merthiolate\n",
      "thymo1---->thymo1\n",
      "ammoniated---->ammoniated\n",
      "0intment---->0intment\n",
      "mcthyl---->ethyl\n",
      "salicylate---->salicylate\n",
      "osntment---->ointment\n",
      "itmans---->romans\n",
      "0il---->0il\n",
      "bastor---->pastor\n",
      "permanganate---->permanganate\n",
      "creosol---->cresol\n",
      "resorcinol---->resorcinol\n",
      "sodiun---->sodium\n",
      "uitrate---->nitrate\n",
      "aoetato---->potato\n",
      "salicylate---->salicylate\n",
      "ephinephrine---->ephinephrine\n",
      "formaldahyde---->formaldahyde\n",
      "iyoopodine---->iyoopodine\n",
      "sulfathiazole---->sulfathiazole\n",
      "sulrcthiazole---->sulrcthiazole\n",
      "38.15424823760986\n"
     ]
    }
   ],
   "source": [
    "import time\n",
    "def auto_correct(text):\n",
    "    wordlist = []\n",
    "    correct_dic = {}\n",
    "    for w in sc.words(text):\n",
    "        if chkr.check(w): wordlist.append(w)\n",
    "        else: \n",
    "            c = sc.correction(w)\n",
    "            print (w+\"---->\"+c)\n",
    "            wordlist.append(c)\n",
    "    return wordlist\n",
    "start = time.time()\n",
    "print ('Spelling Correction Sample')\n",
    "subset = test.iloc[:5].map(auto_correct,na_action='ignore')\n",
    "end = time.time()-start\n",
    "print (end)"
   ]
  },
  {
   "cell_type": "code",
   "execution_count": 6,
   "metadata": {
    "collapsed": false
   },
   "outputs": [
    {
     "data": {
      "text/plain": [
       "1284"
      ]
     },
     "execution_count": 6,
     "metadata": {},
     "output_type": "execute_result"
    }
   ],
   "source": [
    "len(subset)"
   ]
  },
  {
   "cell_type": "markdown",
   "metadata": {},
   "source": [
    "### Check Point"
   ]
  },
  {
   "cell_type": "code",
   "execution_count": 12,
   "metadata": {
    "collapsed": true
   },
   "outputs": [],
   "source": [
    "collection = {}\n",
    "for i in range(len(subset)):\n",
    "    collection = {**collection,**subset[i][1]}"
   ]
  },
  {
   "cell_type": "code",
   "execution_count": 30,
   "metadata": {
    "collapsed": false
   },
   "outputs": [],
   "source": [
    "common = Counter(Counter(collection).values()).most_common()"
   ]
  },
  {
   "cell_type": "markdown",
   "metadata": {},
   "source": [
    "### Visualization of The Most Common Misspelling Word"
   ]
  },
  {
   "cell_type": "code",
   "execution_count": 40,
   "metadata": {
    "collapsed": false
   },
   "outputs": [
    {
     "data": {
      "image/png": "[encoded data removed]",
      "text/plain": [
       "<matplotlib.figure.Figure at 0x12bd6e4a8>"
      ]
     },
     "metadata": {},
     "output_type": "display_data"
    }
   ],
   "source": [
    "import matplotlib.pyplot as plt\n",
    "%matplotlib inline\n",
    "common[2:22]\n",
    "labels, values = zip(*common[1:20])\n",
    "indexes = np.arange(len(labels))\n",
    "\n",
    "\n",
    "bar_width = 0.2\n",
    "fig = plt.figure(figsize=(16,8))\n",
    "plt.bar(indexes, values)\n",
    "plt.xticks(indexes + bar_width, labels)\n",
    "plt.xlabel('Counts')\n",
    "plt.title('The Most Common Misspelling Words ')\n",
    "plt.show()"
   ]
  },
  {
   "cell_type": "code",
   "execution_count": 51,
   "metadata": {
    "collapsed": false
   },
   "outputs": [
    {
     "data": {
      "text/plain": [
       "array(['the', 'of', 'and', 'to', 'in', 'for', 'are', 'which', 'not',\n",
       "       'supplies', 'one', 'hospital', 'medical', 'regional', 'equipment',\n",
       "       'available', 'officer', 'government', 'national'],\n",
       "      dtype='<U10')"
      ]
     },
     "execution_count": 51,
     "metadata": {},
     "output_type": "execute_result"
    }
   ],
   "source": [
    "labels"
   ]
  },
  {
   "cell_type": "code",
   "execution_count": 44,
   "metadata": {
    "collapsed": true
   },
   "outputs": [],
   "source": [
    "uncorr = pd.read_csv('data/UN_raw.csv')\n",
    "corr = pd.read_csv('data/UN_full_text.csv')"
   ]
  },
  {
   "cell_type": "code",
   "execution_count": 45,
   "metadata": {
    "collapsed": true
   },
   "outputs": [],
   "source": [
    "from spelling_correction import words\n",
    "uncorrected_words = uncorr.ocr_eng.map(words,na_action='ignore').sum()\n",
    "corrected_words = corr.ocr_eng.map(words,na_action='ignore').sum()"
   ]
  },
  {
   "cell_type": "code",
   "execution_count": 46,
   "metadata": {
    "collapsed": false
   },
   "outputs": [],
   "source": [
    "from collections import Counter\n",
    "from nltk.corpus import stopwords\n",
    "filtered_words1 = [word for word in uncorrected_words if word in labels]\n",
    "filtered_words2 = [word for word in corrected_words if word in labels]"
   ]
  },
  {
   "cell_type": "markdown",
   "metadata": {},
   "source": [
    "### Changes in Common Words Frequency After Correction"
   ]
  },
  {
   "cell_type": "code",
   "execution_count": 66,
   "metadata": {
    "collapsed": false
   },
   "outputs": [
    {
     "data": {
      "image/png": "[encoded data removed]",
      "text/plain": [
       "<matplotlib.figure.Figure at 0x136565b70>"
      ]
     },
     "metadata": {},
     "output_type": "display_data"
    }
   ],
   "source": [
    "from collections import Counter\n",
    "from nltk.corpus import stopwords\n",
    "import matplotlib.pyplot as plt\n",
    "%matplotlib inline\n",
    "\n",
    "counts1 = Counter(filtered_words1)\n",
    "labels1, values1 = zip(*counts1.items())\n",
    "indSort1 = np.argsort(values1)[:-20:-1]\n",
    "labels1 = np.array(labels1)[indSort1]\n",
    "values1 = np.array(values1)[indSort1]\n",
    "indexes1 = np.arange(len(labels1))\n",
    "\n",
    "counts2 = Counter(filtered_words2)\n",
    "labels2, values2 = zip(*counts2.items())\n",
    "indSort2 = np.argsort(values2)[:-20:-1]\n",
    "labels2 = np.array(labels2)[indSort2]\n",
    "values2 = np.array(values2)[indSort2]\n",
    "indexes2 = np.arange(len(labels2))\n",
    "\n",
    "bar_width = 0.1\n",
    "w = 0.2\n",
    "fig = plt.figure(figsize=(16,8))\n",
    "plt.bar(indexes1, values1,width=0.2)\n",
    "plt.bar(indexes2+0.2, values2,width=0.2)\n",
    "plt.xticks(indexes1 + bar_width, labels1)\n",
    "plt.title('Changes in Common Words Frequency After Correction')\n",
    "plt.ylabel('Counts')\n",
    "plt.show()"
   ]
  }
 ],
 "metadata": {
  "anaconda-cloud": {},
  "kernelspec": {
   "display_name": "Python [conda env:NLP]",
   "language": "python",
   "name": "conda-env-NLP-py"
  },
  "language_info": {
   "codemirror_mode": {
    "name": "ipython",
    "version": 3
   },
   "file_extension": ".py",
   "mimetype": "text/x-python",
   "name": "python",
   "nbconvert_exporter": "python",
   "pygments_lexer": "ipython3",
   "version": "3.6.2"
  }
 },
 "nbformat": 4,
 "nbformat_minor": 1
}
