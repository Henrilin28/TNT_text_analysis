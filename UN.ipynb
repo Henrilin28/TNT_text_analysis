{
 "cells": [
  {
   "cell_type": "code",
   "execution_count": 3,
   "metadata": {
    "collapsed": false
   },
   "outputs": [],
   "source": [
    "# __author__ = 'easonla'\n",
    "#  -*- coding: utf-8 -*-\n",
    "# coding: utf-8\n",
    "import urllib2 as ul\n",
    "import requests, json\n",
    "import pandas as pd\n",
    "NLAPI = str(\"https://api.nationaltreasure.tw/v1/upload\")\n",
    "def get_TNT_data(tag='中美斷交',n=1000):\n",
    "\tuid_list = get_uid_list(tag)\n",
    "\tdf = get_data(uid_list)\n",
    "\treturn df\n",
    "\n",
    "def get_uid_list(tag):\n",
    "    link = NLAPI + \"?tag=\" + tag\n",
    "    parsed_data = json.loads(ul.urlopen(link))\n",
    "    uid_list = [u.get('uid') for u in parsed_data['Items']]\n",
    "    print 'link:'+link \n",
    "    print 'sample uid list'\n",
    "    for uid in uid_list[:5]:\n",
    "        print NLAPI+'?uid='+uid\n",
    "    return uid_list\n",
    "\n",
    "def get_data(uid_list):\n",
    "\tdocs = {}\n",
    "\tindex = 0 \n",
    "\tfor uid in uid_list:\n",
    "\t\tlink = NLAPI+'?uid='+uid\n",
    "\t\ttemp = json.load(ul.urlopen(link))\n",
    "\t\tdocs[index]=temp['Item']\n",
    "\t\tif index%100 == 0: print \"{:d} data downloaded\"\n",
    "\t\tindex+=1\n",
    "\tdf = pd.DataFrame.from_dict(docs,orient='index')\n",
    "\tocr = df[['ocr','uid']]\n",
    "\tcols = ['uid','name','type','salience','count']\n",
    "\tnlp = []\n",
    "\tfor i,d in enumerate(df['nlpEn']):\n",
    "\t\tuid = df['uid'][i]\n",
    "\t\tif len(d)!=0:\n",
    "\t\t\tfor p in d[0]['entities']:\n",
    "\t\t\t\tcount = len(p['mentions'])\n",
    "\t\t\t\tname = p['name'].lower()\n",
    "\t\t\t\tt = p['type']\n",
    "\t\t\t\ts = p['salience']\n",
    "\t\t\t\tnlp.append(dict( zip( cols, [uid,name,t,s,count])))\n",
    "\tnlp = pd.DataFrame(nlp)\n",
    "\tdf = pd.merge(nlp,ocr,on='uid',how='outer')\n",
    "\treturn df \n",
    "\n",
    "def print_mata_data():\n",
    "\treturn 0\n"
   ]
  },
  {
   "cell_type": "code",
   "execution_count": 17,
   "metadata": {
    "collapsed": false,
    "scrolled": true
   },
   "outputs": [
    {
     "name": "stdout",
     "output_type": "stream",
     "text": [
      "link:https://api.nationaltreasure.tw/v1/upload?tag=%E8%81%AF%E5%90%88%E5%9C%8B\n",
      "sample uid list\n",
      "https://api.nationaltreasure.tw/v1/upload?uid=36d6a4c0-867d-11e7-819d-8f1a8d4e4f98\n",
      "https://api.nationaltreasure.tw/v1/upload?uid=36ca96d0-867d-11e7-a29c-377faae4ace3\n",
      "https://api.nationaltreasure.tw/v1/upload?uid=51594b90-867d-11e7-819d-8f1a8d4e4f98\n",
      "https://api.nationaltreasure.tw/v1/upload?uid=575b6190-867d-11e7-819d-8f1a8d4e4f98\n",
      "https://api.nationaltreasure.tw/v1/upload?uid=5c53f6d0-867d-11e7-819d-8f1a8d4e4f98\n",
      "{:d} data downloaded\n",
      "{:d} data downloaded\n",
      "{:d} data downloaded\n",
      "{:d} data downloaded\n",
      "{:d} data downloaded\n",
      "{:d} data downloaded\n",
      "{:d} data downloaded\n",
      "{:d} data downloaded\n",
      "{:d} data downloaded\n",
      "{:d} data downloaded\n"
     ]
    }
   ],
   "source": [
    "df = get_TNT_data(tag=ul.quote('聯合國'))"
   ]
  },
  {
   "cell_type": "code",
   "execution_count": 21,
   "metadata": {
    "collapsed": false
   },
   "outputs": [
    {
     "data": {
      "text/plain": [
       "[u'TAIWAN REGIONAL OFFICE\\nMONTHLY REPORT FOR DECEMBER 1946\\nSUBSECTION IV HEALT\\nEDICAL GENERAL\\nThere is some improvement apparent in the administration of\\nhealth activities. Nonth by month the staffs of provincial\\nprefecture and municipal health departments are gaining more\\nexperience and are beginning to grasp the extent of their\\nduties and responsibilities. Disease reporting forns have\\nbeen revised, spot maps are coming into use and charts are\\nnow being maintained so as to show disease incidence and\\ntrends. The extent of health services is being slowly in\\ncreased, in that some concern is now given di.sease, such as\\nmalaria and tuberculosis, which had previously beon appar-\\ndisregarded. Actual accomplishments would be diffic-\\nprograms is an encouraging sign.\\ne the larger\\nult to measure but the mere fact that plans are being dis-\\ncussed and made by governmental health offices for disease\\ntreatment and immunization\\nThe UNRRA-CNRRA sponsored activities in controlling epidem-\\nies of communicabie diseases hav\\ncities a little more conscious of sanitation\\nimprovement noted in some citi\\nseemed to\\n. Part of the\\nes may be due to the gradual\\ning up of destroyed sections of cities. Private enter-\\nprise is busy with building and repair of business houses\\nand shops. Municipal governments are now doing more than\\ntormerly to clean the open drains, but little seens to hav\\nbeen done to make the general public and individual property\\nholders responsible for reeping drains free of refuse. Garb-\\nage collection is incomplete and irregular. Attempts have\\nbeen made to control night-soil disposal, but the se at\\nhave either been misguided or carried out by incompetent\\nper sonnel without field supervision. In one city raw sewage\\nis boing dumped into treatment tanks to be immediately naiied\\nout again by agricultural users of the night-soil ana sprcad\\non the fields.\\nThe population as a whole has no idea of sanitation in the\\nrevention of disease and any sanitary measures taken by\\ngovernmental agencios are only half-heartedly enforced and\\nre evaded freely by the people. The educational efforts of\\nUNRRA have been directed towards consultations with central\\nealth agencies and teaching of groups of professional per-\\nel at professional schools and larger hospitals, rather\\nthan attempting to give medical care directly to the people.\\nA survey of hospitalization in relation to out-patient work,\\nand of total hospital and clinic work in relation to the\\npopulation of the communities served, show the extremely small\\npart to which present inedical facilities are meeting th\\nmedical needs of the people. Cities of 100,000 populatiurn\\noften have less than 50 hospitai beds occupied and only laipei\\na city of over 300,000, serves more than 500 outpatients daily\\nin its hospiial cli\\nnot given any care other than by family or neighbors, or else\\nnics. rhe great part of illness is either\\n']"
      ]
     },
     "execution_count": 21,
     "metadata": {},
     "output_type": "execute_result"
    }
   ],
   "source": [
    "df.ocr[0]"
   ]
  },
  {
   "cell_type": "code",
   "execution_count": 35,
   "metadata": {
    "collapsed": false
   },
   "outputs": [
    {
     "data": {
      "text/plain": [
       "[u'TAIWAN REGIONAL OFFICE\\nMONTHLY REPORT FOR DECEMBER 1946\\nSUBSECTION IV HEALT\\nEDICAL GENERAL\\nThere is some improvement apparent in the administration of\\nhealth activities. Nonth by month the staffs of provincial\\nprefecture and municipal health departments are gaining more\\nexperience and are beginning to grasp the extent of their\\nduties and responsibilities. Disease reporting forns have\\nbeen revised, spot maps are coming into use and charts are\\nnow being maintained so as to show disease incidence and\\ntrends. The extent of health services is being slowly in\\ncreased, in that some concern is now given di.sease, such as\\nmalaria and tuberculosis, which had previously beon appar-\\ndisregarded. Actual accomplishments would be diffic-\\nprograms is an encouraging sign.\\ne the larger\\nult to measure but the mere fact that plans are being dis-\\ncussed and made by governmental health offices for disease\\ntreatment and immunization\\nThe UNRRA-CNRRA sponsored activities in controlling epidem-\\nies of communicabie diseases hav\\ncities a little more conscious of sanitation\\nimprovement noted in some citi\\nseemed to\\n. Part of the\\nes may be due to the gradual\\ning up of destroyed sections of cities. Private enter-\\nprise is busy with building and repair of business houses\\nand shops. Municipal governments are now doing more than\\ntormerly to clean the open drains, but little seens to hav\\nbeen done to make the general public and individual property\\nholders responsible for reeping drains free of refuse. Garb-\\nage collection is incomplete and irregular. Attempts have\\nbeen made to control night-soil disposal, but the se at\\nhave either been misguided or carried out by incompetent\\nper sonnel without field supervision. In one city raw sewage\\nis boing dumped into treatment tanks to be immediately naiied\\nout again by agricultural users of the night-soil ana sprcad\\non the fields.\\nThe population as a whole has no idea of sanitation in the\\nrevention of disease and any sanitary measures taken by\\ngovernmental agencios are only half-heartedly enforced and\\nre evaded freely by the people. The educational efforts of\\nUNRRA have been directed towards consultations with central\\nealth agencies and teaching of groups of professional per-\\nel at professional schools and larger hospitals, rather\\nthan attempting to give medical care directly to the people.\\nA survey of hospitalization in relation to out-patient work,\\nand of total hospital and clinic work in relation to the\\npopulation of the communities served, show the extremely small\\npart to which present inedical facilities are meeting th\\nmedical needs of the people. Cities of 100,000 populatiurn\\noften have less than 50 hospitai beds occupied and only laipei\\na city of over 300,000, serves more than 500 outpatients daily\\nin its hospiial cli\\nnot given any care other than by family or neighbors, or else\\nnics. rhe great part of illness is either\\n']"
      ]
     },
     "execution_count": 35,
     "metadata": {},
     "output_type": "execute_result"
    }
   ],
   "source": [
    "df.ocr[1]"
   ]
  },
  {
   "cell_type": "code",
   "execution_count": 33,
   "metadata": {
    "collapsed": false,
    "scrolled": true
   },
   "outputs": [
    {
     "data": {
      "text/html": [
       "<div>\n",
       "<table border=\"1\" class=\"dataframe\">\n",
       "  <thead>\n",
       "    <tr style=\"text-align: right;\">\n",
       "      <th></th>\n",
       "      <th>count</th>\n",
       "      <th>name</th>\n",
       "      <th>salience</th>\n",
       "      <th>type</th>\n",
       "      <th>uid</th>\n",
       "      <th>ocr</th>\n",
       "    </tr>\n",
       "  </thead>\n",
       "  <tbody>\n",
       "    <tr>\n",
       "      <th>0</th>\n",
       "      <td>1.0</td>\n",
       "      <td>improvement</td>\n",
       "      <td>0.055612</td>\n",
       "      <td>OTHER</td>\n",
       "      <td>36d6a4c0-867d-11e7-819d-8f1a8d4e4f98</td>\n",
       "      <td>[TAIWAN REGIONAL OFFICE\\nMONTHLY REPORT FOR DE...</td>\n",
       "    </tr>\n",
       "    <tr>\n",
       "      <th>1</th>\n",
       "      <td>1.0</td>\n",
       "      <td>health activities</td>\n",
       "      <td>0.047800</td>\n",
       "      <td>OTHER</td>\n",
       "      <td>36d6a4c0-867d-11e7-819d-8f1a8d4e4f98</td>\n",
       "      <td>[TAIWAN REGIONAL OFFICE\\nMONTHLY REPORT FOR DE...</td>\n",
       "    </tr>\n",
       "    <tr>\n",
       "      <th>2</th>\n",
       "      <td>1.0</td>\n",
       "      <td>report</td>\n",
       "      <td>0.047800</td>\n",
       "      <td>OTHER</td>\n",
       "      <td>36d6a4c0-867d-11e7-819d-8f1a8d4e4f98</td>\n",
       "      <td>[TAIWAN REGIONAL OFFICE\\nMONTHLY REPORT FOR DE...</td>\n",
       "    </tr>\n",
       "    <tr>\n",
       "      <th>3</th>\n",
       "      <td>1.0</td>\n",
       "      <td>administration</td>\n",
       "      <td>0.042051</td>\n",
       "      <td>ORGANIZATION</td>\n",
       "      <td>36d6a4c0-867d-11e7-819d-8f1a8d4e4f98</td>\n",
       "      <td>[TAIWAN REGIONAL OFFICE\\nMONTHLY REPORT FOR DE...</td>\n",
       "    </tr>\n",
       "    <tr>\n",
       "      <th>4</th>\n",
       "      <td>2.0</td>\n",
       "      <td>cities</td>\n",
       "      <td>0.031293</td>\n",
       "      <td>LOCATION</td>\n",
       "      <td>36d6a4c0-867d-11e7-819d-8f1a8d4e4f98</td>\n",
       "      <td>[TAIWAN REGIONAL OFFICE\\nMONTHLY REPORT FOR DE...</td>\n",
       "    </tr>\n",
       "  </tbody>\n",
       "</table>\n",
       "</div>"
      ],
      "text/plain": [
       "   count               name  salience          type  \\\n",
       "0    1.0        improvement  0.055612         OTHER   \n",
       "1    1.0  health activities  0.047800         OTHER   \n",
       "2    1.0             report  0.047800         OTHER   \n",
       "3    1.0     administration  0.042051  ORGANIZATION   \n",
       "4    2.0             cities  0.031293      LOCATION   \n",
       "\n",
       "                                    uid  \\\n",
       "0  36d6a4c0-867d-11e7-819d-8f1a8d4e4f98   \n",
       "1  36d6a4c0-867d-11e7-819d-8f1a8d4e4f98   \n",
       "2  36d6a4c0-867d-11e7-819d-8f1a8d4e4f98   \n",
       "3  36d6a4c0-867d-11e7-819d-8f1a8d4e4f98   \n",
       "4  36d6a4c0-867d-11e7-819d-8f1a8d4e4f98   \n",
       "\n",
       "                                                 ocr  \n",
       "0  [TAIWAN REGIONAL OFFICE\\nMONTHLY REPORT FOR DE...  \n",
       "1  [TAIWAN REGIONAL OFFICE\\nMONTHLY REPORT FOR DE...  \n",
       "2  [TAIWAN REGIONAL OFFICE\\nMONTHLY REPORT FOR DE...  \n",
       "3  [TAIWAN REGIONAL OFFICE\\nMONTHLY REPORT FOR DE...  \n",
       "4  [TAIWAN REGIONAL OFFICE\\nMONTHLY REPORT FOR DE...  "
      ]
     },
     "execution_count": 33,
     "metadata": {},
     "output_type": "execute_result"
    }
   ],
   "source": [
    "df.head()"
   ]
  },
  {
   "cell_type": "code",
   "execution_count": 53,
   "metadata": {
    "collapsed": false
   },
   "outputs": [],
   "source": [
    "ocr = df.ocr.map(lambda x: x[0] if len(x)>10 else None).drop_duplicates().dropna()"
   ]
  },
  {
   "cell_type": "code",
   "execution_count": 55,
   "metadata": {
    "collapsed": true
   },
   "outputs": [],
   "source": [
    "orc = ocr.reset_index().drop('index',axis=1)"
   ]
  },
  {
   "cell_type": "code",
   "execution_count": 60,
   "metadata": {
    "collapsed": false
   },
   "outputs": [
    {
     "data": {
      "text/plain": [
       "u'EC TIONC-SUBSECTION IV CONTD.)\\naverage of 27 in-patients and 290 out-patients daily,\\nhospital and clinic equipment in fair condition, has 14\\ndoctors and 45 nurses, has received assorted expendable\\nmedical supplios, givos free servics to some of its in\\nand out-patients, available beds are 40.\\nTahao Provincial Hospital, Takao, operated by Talwan Health\\nEut enu, renders medical, surgical, gyneculogy pediatric,\\nE R. eye, dental, x-ray, laboratory and phaj net ical\\nSCs, has an average of 25 in-patients ant 126 ot\\npa ieats daily, recently purchased an operatabie r.ray\\nmarnine\\nfrom a departing Japanese physician, otlhor hospit-\\nal equipment serviceable but has no ove r-head \\u01d0jght for\\nsurgical cpcrating room, ha s no refrigeration l\\'or bi clog\\nicals, has 13 doctors and 26 nurses, has reccived assorted\\nonpendablc medical supplies, gives free services to 30% in\\npal.ients and 7\\u8aa4out-patients and available.beds are 50.\\nHes to Provincial Hospital, Heito, operated by\\nTaiwan Heal th\\nBu eau, renders assorted medical and surgical services\\nhospitel oquipment serriceable but needs repairs and renov-\\nesbendable medical supplies and is now receiving CNRRA\\nincluding laboratory and pharmaceutical but noi x-ray, has\\nan average of 36 in-patioats and 400 out-patients daily,\\naLicns, has 17 doeto.s and 31 nurses, has recalved assorted\\nmcr:t, gives free\\' services to a certain proporticn of in and\\nTaito Provineial Hospital, Taito, cperated by ian Health\\naooratory and pharmaceutical services, has an average of\\nou i-nationt clinie equipnent including x-ray wita the bomo-\\nasistarce in repair ing and furnishing the buildinge and equip-\\nou-Datients and available beds are,72.\\nuoau, ren\\xfcers oniy medieal, surgical, grecological\\n1 1- patients and 100\\nout-patients daily, lost most of its\\nins and burning of the main building. Cupatient services\\navre given in a small out building, patients waiting in the\\nweuther outside. Has 4 doctors and 6 nucse, has receired\\nae sor ted expendable medical supplies, gives free services to\\n23% in and 17% of out-patients, available beds are 19.\\nKarenko Provincial Hospital, Karenko, operated by Taiwan\\nHealth Bureau, rendors medical, surgical, obstetric, x-ray\\n(Luoroscopic only) laboratory and pharmaceuticul serrices\\nhas an average of 12 in-patients and 136 out-patients laily\\nhospital equipnent in only fair condition, has 8 doetors and\\n23 nui ses, has received asscr\\u010ded expendable medical supplies\\ngives free services to 12,3 of its out-patten ts, ha\\u95e8 40,avail\\nable beds in the main hospital and had 20 beas in n branch\\nhospital at Tania sato until its ward space wes destroyed in\\nthe typhooi of 25 Septembe:\\nGir n PTovincial Hospital, ciran, operated by Taiwen Heal th\\nBiureau, rerders medical, surgical, gynecological, pediatric\\n.H.\\nophthe lmologice. dentat, laboratory, pharmaceutical\\n2:1, \\u03bb ray tz\"Lucrosecpio only) services, has an average of 20\\niu anl \\xf3 out-patients dai iy, had some of its equipment\\n'"
      ]
     },
     "execution_count": 60,
     "metadata": {},
     "output_type": "execute_result"
    }
   ],
   "source": [
    "list(ocr)[3]"
   ]
  },
  {
   "cell_type": "code",
   "execution_count": 24,
   "metadata": {
    "collapsed": false
   },
   "outputs": [],
   "source": [
    "from sklearn.feature_extraction.text import TfidfVectorizer, CountVectorizer"
   ]
  },
  {
   "cell_type": "code",
   "execution_count": null,
   "metadata": {
    "collapsed": true
   },
   "outputs": [],
   "source": [
    "documents = list(ocr)\n",
    "no_features = 200\n",
    "\n",
    "# NMF is able to use tf-idf\n",
    "tfidf_vectorizer = TfidfVectorizer(max_df=0.95, min_df=2, max_features=no_features, stop_words='english')\n",
    "tfidf = tfidf_vectorizer.fit_transform(documents)\n",
    "tfidf_feature_names = tfidf_vectorizer.get_feature_names()"
   ]
  },
  {
   "cell_type": "code",
   "execution_count": 74,
   "metadata": {
    "collapsed": false
   },
   "outputs": [
    {
     "data": {
      "text/plain": [
       "[u'00',\n",
       " u'000',\n",
       " u'10',\n",
       " u'100',\n",
       " u'11',\n",
       " u'12',\n",
       " u'13',\n",
       " u'14',\n",
       " u'15',\n",
       " u'16',\n",
       " u'18',\n",
       " u'1946',\n",
       " u'1947',\n",
       " u'20',\n",
       " u'200',\n",
       " u'21',\n",
       " u'24',\n",
       " u'25',\n",
       " u'27',\n",
       " u'30',\n",
       " u'40',\n",
       " u'50',\n",
       " u'500',\n",
       " u'60',\n",
       " u'action',\n",
       " u'administration',\n",
       " u'administrative',\n",
       " u'allocation',\n",
       " u'area',\n",
       " u'areas',\n",
       " u'army',\n",
       " u'assigned',\n",
       " u'available',\n",
       " u'bed',\n",
       " u'beds',\n",
       " u'bo',\n",
       " u'board',\n",
       " u'borcic',\n",
       " u'branch',\n",
       " u'bureau',\n",
       " u'care',\n",
       " u'cases',\n",
       " u'central',\n",
       " u'chief',\n",
       " u'china',\n",
       " u'chinese',\n",
       " u'cholera',\n",
       " u'cnrra',\n",
       " u'col',\n",
       " u'committee',\n",
       " u'conditions',\n",
       " u'control',\n",
       " u'data',\n",
       " u'date',\n",
       " u'day',\n",
       " u'deputy',\n",
       " u'director',\n",
       " u'distribution',\n",
       " u'division',\n",
       " u'doctors',\n",
       " u'dr',\n",
       " u'ed',\n",
       " u'end',\n",
       " u'equipment',\n",
       " u'es',\n",
       " u'established',\n",
       " u'field',\n",
       " u'following',\n",
       " u'food',\n",
       " u'free',\n",
       " u'fron',\n",
       " u'general',\n",
       " u'given',\n",
       " u'good',\n",
       " u'government',\n",
       " u'grade',\n",
       " u'health',\n",
       " u'held',\n",
       " u'ho',\n",
       " u'hospital',\n",
       " u'hospitals',\n",
       " u'ia',\n",
       " u'industrial',\n",
       " u'information',\n",
       " u'ing',\n",
       " u'japanese',\n",
       " u'joint',\n",
       " u'june',\n",
       " u'laboratory',\n",
       " u'lack',\n",
       " u'large',\n",
       " u'local',\n",
       " u'major',\n",
       " u'make',\n",
       " u'medical',\n",
       " u'meeting',\n",
       " u'ment',\n",
       " u'miss',\n",
       " u'month',\n",
       " u'months',\n",
       " u'mr',\n",
       " u'nanking',\n",
       " u'national',\n",
       " u'nd',\n",
       " u'need',\n",
       " u'needed',\n",
       " u'needs',\n",
       " u'new',\n",
       " u'number',\n",
       " u'nurse',\n",
       " u'nurses',\n",
       " u'nursing',\n",
       " u'office',\n",
       " u'officer',\n",
       " u'offices',\n",
       " u'operation',\n",
       " u'operations',\n",
       " u'order',\n",
       " u'organization',\n",
       " u'page',\n",
       " u'patients',\n",
       " u'people',\n",
       " u'period',\n",
       " u'personnel',\n",
       " u'persons',\n",
       " u'plan',\n",
       " u'planning',\n",
       " u'plans',\n",
       " u'position',\n",
       " u'possible',\n",
       " u'present',\n",
       " u'pro',\n",
       " u'problems',\n",
       " u'program',\n",
       " u'projects',\n",
       " u'provide',\n",
       " u'provincial',\n",
       " u'public',\n",
       " u'ray',\n",
       " u'received',\n",
       " u'red',\n",
       " u'regarding',\n",
       " u'region',\n",
       " u'regional',\n",
       " u'regions',\n",
       " u'rehabilitation',\n",
       " u'relief',\n",
       " u'report',\n",
       " u'reported',\n",
       " u'reports',\n",
       " u'representative',\n",
       " u'request',\n",
       " u'requested',\n",
       " u'school',\n",
       " u'schools',\n",
       " u'se',\n",
       " u'section',\n",
       " u'sent',\n",
       " u'service',\n",
       " u'services',\n",
       " u'set',\n",
       " u'shanghai',\n",
       " u'shop',\n",
       " u'situation',\n",
       " u'small',\n",
       " u'special',\n",
       " u'st',\n",
       " u'staff',\n",
       " u'students',\n",
       " u'supplies',\n",
       " u'supply',\n",
       " u'survey',\n",
       " u'table',\n",
       " u'taiwan',\n",
       " u'taiyuan',\n",
       " u'taken',\n",
       " u'te',\n",
       " u'team',\n",
       " u'th',\n",
       " u'tha',\n",
       " u'thet',\n",
       " u'thie',\n",
       " u'tho',\n",
       " u'time',\n",
       " u'tion',\n",
       " u'tons',\n",
       " u'total',\n",
       " u'training',\n",
       " u'transportation',\n",
       " u'unit',\n",
       " u'unrra',\n",
       " u'use',\n",
       " u'used',\n",
       " u'various',\n",
       " u'water',\n",
       " u'week',\n",
       " u'wi',\n",
       " u'work',\n",
       " u'year',\n",
       " u'years']"
      ]
     },
     "execution_count": 74,
     "metadata": {},
     "output_type": "execute_result"
    }
   ],
   "source": [
    "tfidf_feature_names"
   ]
  },
  {
   "cell_type": "code",
   "execution_count": 72,
   "metadata": {
    "collapsed": false
   },
   "outputs": [],
   "source": [
    "# LDA can only use raw term counts for LDA because it is a probabilistic graphical model\n",
    "tf_vectorizer = CountVectorizer(max_df=0.95, min_df=2, max_features=no_features, stop_words='english')\n",
    "tf = tf_vectorizer.fit_transform(documents)\n",
    "tf_feature_names = tf_vectorizer.get_feature_names()"
   ]
  },
  {
   "cell_type": "code",
   "execution_count": 77,
   "metadata": {
    "collapsed": true
   },
   "outputs": [],
   "source": [
    "from sklearn.decomposition import NMF, LatentDirichletAllocation\n",
    "no_topics = 3\n",
    "# Run NMF\n",
    "nmf = NMF(n_components=no_topics, random_state=1, alpha=.1, l1_ratio=.5, init='nndsvd').fit(tfidf)\n",
    "# Run LDA\n",
    "lda = LatentDirichletAllocation(n_topics=no_topics, max_iter=5, learning_method='online', learning_offset=50.,random_state=0).fit(tf)"
   ]
  },
  {
   "cell_type": "code",
   "execution_count": 78,
   "metadata": {
    "collapsed": false
   },
   "outputs": [
    {
     "name": "stdout",
     "output_type": "stream",
     "text": [
      "Topic 0:\n",
      "dr supplies mr unrra health medical china cnrra hospital shanghai\n",
      "Topic 1:\n",
      "000 tho bo 50 tons 10 20 500 100 end\n",
      "Topic 2:\n",
      "grade regional 12 11 position table 10 chief officer division\n",
      "==============================\n",
      "Topic 0:\n",
      "000 hospital medical 50 10 nurses 20 100 dr health\n",
      "Topic 1:\n",
      "dr mr unrra supplies china cnrra office work regional personnel\n",
      "Topic 2:\n",
      "tho grade bo regional 11 12 10 thet ia officer\n"
     ]
    }
   ],
   "source": [
    "def display_topics(model, feature_names, no_top_words):\n",
    "    for topic_idx, topic in enumerate(model.components_):\n",
    "        print \"Topic %d:\" % (topic_idx)\n",
    "        print \" \".join([feature_names[i]\n",
    "                        for i in topic.argsort()[:-no_top_words - 1:-1]])\n",
    "\n",
    "no_top_words = 10\n",
    "display_topics(nmf, tfidf_feature_names, no_top_words)\n",
    "print \"==============================\"\n",
    "display_topics(lda, tf_feature_names, no_top_words)"
   ]
  },
  {
   "cell_type": "code",
   "execution_count": null,
   "metadata": {
    "collapsed": true
   },
   "outputs": [],
   "source": []
  }
 ],
 "metadata": {
  "kernelspec": {
   "display_name": "Python [conda root]",
   "language": "python",
   "name": "conda-root-py"
  },
  "language_info": {
   "codemirror_mode": {
    "name": "ipython",
    "version": 2
   },
   "file_extension": ".py",
   "mimetype": "text/x-python",
   "name": "python",
   "nbconvert_exporter": "python",
   "pygments_lexer": "ipython2",
   "version": "2.7.12"
  }
 },
 "nbformat": 4,
 "nbformat_minor": 1
}
