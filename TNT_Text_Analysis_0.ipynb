{
 "cells": [
  {
   "cell_type": "markdown",
   "metadata": {},
   "source": [
    "Example of text analysis for Taiwan National Treasure (TNT) data\n",
    "1. read data from api\n",
    "2. structure ocr and nlp data frame"
   ]
  },
  {
   "cell_type": "code",
   "execution_count": 1,
   "metadata": {
    "collapsed": false
   },
   "outputs": [],
   "source": [
    "import urllib2 as ul\n",
    "import requests, json\n",
    "import pandas as pd\n",
    "NLAPI = str(\"https://api.nationaltreasure.tw/v1/upload\")"
   ]
  },
  {
   "cell_type": "markdown",
   "metadata": {},
   "source": [
    "Request single data from API"
   ]
  },
  {
   "cell_type": "code",
   "execution_count": 121,
   "metadata": {
    "collapsed": false
   },
   "outputs": [
    {
     "name": "stdout",
     "output_type": "stream",
     "text": [
      "https://api.nationaltreasure.tw/v1/upload?uid=1f5cd880-88eb-11e7-b276-4d7eb1b5b1eb\n",
      "https://api.nationaltreasure.tw/v1/upload?uid=347849c0-88eb-11e7-b276-4d7eb1b5b1eb\n",
      "https://api.nationaltreasure.tw/v1/upload?uid=39ba1d00-88eb-11e7-8cef-31d850aa17ef\n",
      "https://api.nationaltreasure.tw/v1/upload?uid=3cb29c80-88eb-11e7-8cef-31d850aa17ef\n",
      "https://api.nationaltreasure.tw/v1/upload?uid=3cd9ac80-88eb-11e7-b3cb-0fa397c90bdd\n"
     ]
    },
    {
     "data": {
      "text/html": [
       "<div>\n",
       "<table border=\"1\" class=\"dataframe\">\n",
       "  <thead>\n",
       "    <tr style=\"text-align: right;\">\n",
       "      <th></th>\n",
       "      <th>Item</th>\n",
       "    </tr>\n",
       "  </thead>\n",
       "  <tbody>\n",
       "    <tr>\n",
       "      <th>docId</th>\n",
       "      <td>3303795</td>\n",
       "    </tr>\n",
       "    <tr>\n",
       "      <th>endYear</th>\n",
       "      <td>1980</td>\n",
       "    </tr>\n",
       "    <tr>\n",
       "      <th>imageKey</th>\n",
       "      <td>NARA/3303795/1f5cd880-88eb-11e7-b276-4d7eb1b5b...</td>\n",
       "    </tr>\n",
       "    <tr>\n",
       "      <th>isNotDocument</th>\n",
       "      <td>False</td>\n",
       "    </tr>\n",
       "    <tr>\n",
       "      <th>isReadyForView</th>\n",
       "      <td>False</td>\n",
       "    </tr>\n",
       "    <tr>\n",
       "      <th>location</th>\n",
       "      <td>NARA</td>\n",
       "    </tr>\n",
       "    <tr>\n",
       "      <th>metadata</th>\n",
       "      <td>{u'box': u'62-63', u'containerId': u'62-63', u...</td>\n",
       "    </tr>\n",
       "    <tr>\n",
       "      <th>nlpEn</th>\n",
       "      <td>[{u'entities': [{u'name': u'COMMEPCIAL', u'sen...</td>\n",
       "    </tr>\n",
       "    <tr>\n",
       "      <th>nlpZh</th>\n",
       "      <td>[{u'entities': [{u'name': u'\\u5168\\u9ad4\\u6703...</td>\n",
       "    </tr>\n",
       "    <tr>\n",
       "      <th>ocr</th>\n",
       "      <td>[DECLASSIFIED\\nFLE\\nTO WHITE HOUSE\\nSECSTATE\\n...</td>\n",
       "    </tr>\n",
       "    <tr>\n",
       "      <th>originalUrl</th>\n",
       "      <td>https://s3.amazonaws.com/national-treasure/NAR...</td>\n",
       "    </tr>\n",
       "    <tr>\n",
       "      <th>primaryTag</th>\n",
       "      <td>中美斷交</td>\n",
       "    </tr>\n",
       "    <tr>\n",
       "      <th>resizedUrls</th>\n",
       "      <td>{u'smallUrl': u'https://s3.amazonaws.com/natio...</td>\n",
       "    </tr>\n",
       "    <tr>\n",
       "      <th>startYear</th>\n",
       "      <td>1977</td>\n",
       "    </tr>\n",
       "    <tr>\n",
       "      <th>timestamp</th>\n",
       "      <td>1503592857</td>\n",
       "    </tr>\n",
       "    <tr>\n",
       "      <th>translate</th>\n",
       "      <td>[解密\\nFLE\\n致白宮\\nSECSTATE\\nZEM\\nSECRET T SPFCAT ...</td>\n",
       "    </tr>\n",
       "    <tr>\n",
       "      <th>uid</th>\n",
       "      <td>1f5cd880-88eb-11e7-b276-4d7eb1b5b1eb</td>\n",
       "    </tr>\n",
       "    <tr>\n",
       "      <th>userId</th>\n",
       "      <td>1fcaca0e-83c3-45a8-8e20-806bd3c13047</td>\n",
       "    </tr>\n",
       "  </tbody>\n",
       "</table>\n",
       "</div>"
      ],
      "text/plain": [
       "                                                             Item\n",
       "docId                                                     3303795\n",
       "endYear                                                      1980\n",
       "imageKey        NARA/3303795/1f5cd880-88eb-11e7-b276-4d7eb1b5b...\n",
       "isNotDocument                                               False\n",
       "isReadyForView                                              False\n",
       "location                                                     NARA\n",
       "metadata        {u'box': u'62-63', u'containerId': u'62-63', u...\n",
       "nlpEn           [{u'entities': [{u'name': u'COMMEPCIAL', u'sen...\n",
       "nlpZh           [{u'entities': [{u'name': u'\\u5168\\u9ad4\\u6703...\n",
       "ocr             [DECLASSIFIED\\nFLE\\nTO WHITE HOUSE\\nSECSTATE\\n...\n",
       "originalUrl     https://s3.amazonaws.com/national-treasure/NAR...\n",
       "primaryTag                                                   中美斷交\n",
       "resizedUrls     {u'smallUrl': u'https://s3.amazonaws.com/natio...\n",
       "startYear                                                    1977\n",
       "timestamp                                              1503592857\n",
       "translate       [解密\\nFLE\\n致白宮\\nSECSTATE\\nZEM\\nSECRET T SPFCAT ...\n",
       "uid                          1f5cd880-88eb-11e7-b276-4d7eb1b5b1eb\n",
       "userId                       1fcaca0e-83c3-45a8-8e20-806bd3c13047"
      ]
     },
     "execution_count": 121,
     "metadata": {},
     "output_type": "execute_result"
    }
   ],
   "source": [
    "data = ul.urlopen(NLAPI)\n",
    "\n",
    "parsed_data = json.loads(data.read())\n",
    "count = parsed_data['Count']\n",
    "Items = parsed_data['Items']\n",
    "\n",
    "uid_list = [u.get('uid') for u in Items]\n",
    "\n",
    "link = NLAPI+'?uid='+uid_list[0]\n",
    "for uid in uid_list[:5]:\n",
    "    print NLAPI+'?uid='+uid\n",
    "\n",
    "doc = json.load(ul.urlopen(link))\n",
    "pd.DataFrame(doc)"
   ]
  },
  {
   "cell_type": "markdown",
   "metadata": {},
   "source": [
    "Read first 1000 data"
   ]
  },
  {
   "cell_type": "code",
   "execution_count": 67,
   "metadata": {
    "collapsed": false
   },
   "outputs": [],
   "source": [
    "docs = {}\n",
    "index = 0 \n",
    "for uid in uid_list:\n",
    "    link = NLAPI+'?uid='+uid\n",
    "    temp = json.load(ul.urlopen(link))\n",
    "    docs[index]=temp['Item']\n",
    "    index+=1\n",
    "\n",
    "columns = doc.keys\n",
    "df = pd.DataFrame.from_dict(docs,orient='index')\n",
    "\n",
    "df.info()"
   ]
  },
  {
   "cell_type": "code",
   "execution_count": 94,
   "metadata": {
    "collapsed": false
   },
   "outputs": [],
   "source": [
    "ocr = df[['ocr']] #save for later"
   ]
  },
  {
   "cell_type": "code",
   "execution_count": 86,
   "metadata": {
    "collapsed": false
   },
   "outputs": [
    {
     "data": {
      "text/plain": [
       "[u'name', u'sentiment', u'salience', u'mentions', u'type', u'metadata']"
      ]
     },
     "execution_count": 86,
     "metadata": {},
     "output_type": "execute_result"
    }
   ],
   "source": [
    "df.loc[0].nlpEn[0]['entities'][0].keys()"
   ]
  },
  {
   "cell_type": "code",
   "execution_count": 179,
   "metadata": {
    "collapsed": false
   },
   "outputs": [],
   "source": [
    "cols = ['uid','name','type','salience','count']\n",
    "nlp = []\n",
    "for i,d in enumerate(df['nlpEn']):\n",
    "    uid = df['uid'][i]\n",
    "    if len(d)!=0:\n",
    "        for p in d[0]['entities']:\n",
    "            count = len(p['mentions'])\n",
    "            name = p['name'].lower()\n",
    "            t = p['type']\n",
    "            s = p['salience']\n",
    "            nlp.append(dict( zip( cols, [uid,name,t,s,count])))\n",
    "ds_nlp = pd.DataFrame(nlp)    "
   ]
  },
  {
   "cell_type": "code",
   "execution_count": 180,
   "metadata": {
    "collapsed": false
   },
   "outputs": [
    {
     "name": "stdout",
     "output_type": "stream",
     "text": [
      "<class 'pandas.core.frame.DataFrame'>\n",
      "RangeIndex: 48726 entries, 0 to 48725\n",
      "Data columns (total 5 columns):\n",
      "count       48726 non-null int64\n",
      "name        48726 non-null object\n",
      "salience    48726 non-null float64\n",
      "type        48726 non-null object\n",
      "uid         48726 non-null object\n",
      "dtypes: float64(1), int64(1), object(3)\n",
      "memory usage: 1.9+ MB\n"
     ]
    }
   ],
   "source": [
    "ds_nlp.info()"
   ]
  },
  {
   "cell_type": "markdown",
   "metadata": {},
   "source": [
    "There are some missing data"
   ]
  },
  {
   "cell_type": "code",
   "execution_count": 181,
   "metadata": {
    "collapsed": false
   },
   "outputs": [
    {
     "data": {
      "text/plain": [
       "970"
      ]
     },
     "execution_count": 181,
     "metadata": {},
     "output_type": "execute_result"
    }
   ],
   "source": [
    "ds_nlp.uid.nunique()"
   ]
  },
  {
   "cell_type": "markdown",
   "metadata": {},
   "source": [
    "Remove duplicate terms and common words"
   ]
  },
  {
   "cell_type": "code",
   "execution_count": 185,
   "metadata": {
    "collapsed": false
   },
   "outputs": [
    {
     "data": {
      "text/plain": [
       "relations                 876\n",
       "people                    795\n",
       "president                 645\n",
       "taiwan                    540\n",
       "declassified authority    462\n",
       "section                   392\n",
       "united states             357\n",
       "government                353\n",
       "bill                      254\n",
       "law                       251\n",
       "Name: name, dtype: int64"
      ]
     },
     "execution_count": 185,
     "metadata": {},
     "output_type": "execute_result"
    }
   ],
   "source": [
    "ds_nlp.name.value_counts()[:10]"
   ]
  },
  {
   "cell_type": "markdown",
   "metadata": {},
   "source": [
    "top 5 name in each type catalog"
   ]
  },
  {
   "cell_type": "code",
   "execution_count": 193,
   "metadata": {
    "collapsed": false
   },
   "outputs": [
    {
     "data": {
      "text/html": [
       "<div>\n",
       "<table border=\"1\" class=\"dataframe\">\n",
       "  <thead>\n",
       "    <tr style=\"text-align: right;\">\n",
       "      <th></th>\n",
       "      <th>count</th>\n",
       "      <th>name</th>\n",
       "      <th>salience</th>\n",
       "      <th>uid</th>\n",
       "    </tr>\n",
       "    <tr>\n",
       "      <th>type</th>\n",
       "      <th></th>\n",
       "      <th></th>\n",
       "      <th></th>\n",
       "      <th></th>\n",
       "    </tr>\n",
       "  </thead>\n",
       "  <tbody>\n",
       "    <tr>\n",
       "      <th>CONSUMER_GOOD</th>\n",
       "      <td>276</td>\n",
       "      <td>276</td>\n",
       "      <td>276</td>\n",
       "      <td>276</td>\n",
       "    </tr>\n",
       "    <tr>\n",
       "      <th>EVENT</th>\n",
       "      <td>1601</td>\n",
       "      <td>1601</td>\n",
       "      <td>1601</td>\n",
       "      <td>1601</td>\n",
       "    </tr>\n",
       "    <tr>\n",
       "      <th>LOCATION</th>\n",
       "      <td>4336</td>\n",
       "      <td>4336</td>\n",
       "      <td>4336</td>\n",
       "      <td>4336</td>\n",
       "    </tr>\n",
       "    <tr>\n",
       "      <th>ORGANIZATION</th>\n",
       "      <td>6328</td>\n",
       "      <td>6328</td>\n",
       "      <td>6328</td>\n",
       "      <td>6328</td>\n",
       "    </tr>\n",
       "    <tr>\n",
       "      <th>OTHER</th>\n",
       "      <td>27358</td>\n",
       "      <td>27358</td>\n",
       "      <td>27358</td>\n",
       "      <td>27358</td>\n",
       "    </tr>\n",
       "    <tr>\n",
       "      <th>PERSON</th>\n",
       "      <td>7044</td>\n",
       "      <td>7044</td>\n",
       "      <td>7044</td>\n",
       "      <td>7044</td>\n",
       "    </tr>\n",
       "    <tr>\n",
       "      <th>UNKNOWN</th>\n",
       "      <td>5</td>\n",
       "      <td>5</td>\n",
       "      <td>5</td>\n",
       "      <td>5</td>\n",
       "    </tr>\n",
       "    <tr>\n",
       "      <th>WORK_OF_ART</th>\n",
       "      <td>1778</td>\n",
       "      <td>1778</td>\n",
       "      <td>1778</td>\n",
       "      <td>1778</td>\n",
       "    </tr>\n",
       "  </tbody>\n",
       "</table>\n",
       "</div>"
      ],
      "text/plain": [
       "               count   name  salience    uid\n",
       "type                                        \n",
       "CONSUMER_GOOD    276    276       276    276\n",
       "EVENT           1601   1601      1601   1601\n",
       "LOCATION        4336   4336      4336   4336\n",
       "ORGANIZATION    6328   6328      6328   6328\n",
       "OTHER          27358  27358     27358  27358\n",
       "PERSON          7044   7044      7044   7044\n",
       "UNKNOWN            5      5         5      5\n",
       "WORK_OF_ART     1778   1778      1778   1778"
      ]
     },
     "execution_count": 193,
     "metadata": {},
     "output_type": "execute_result"
    }
   ],
   "source": [
    "ds_nlp.groupby('type').count()"
   ]
  },
  {
   "cell_type": "code",
   "execution_count": 207,
   "metadata": {
    "collapsed": false
   },
   "outputs": [
    {
     "name": "stdout",
     "output_type": "stream",
     "text": [
      "CONSUMER_GOOD\n",
      "vehicle    16\n",
      "cars        9\n",
      "car         9\n",
      "items       8\n",
      "weapons     7\n",
      "Name: name, dtype: int64\n",
      "EVENT\n",
      "normalization    101\n",
      "attack            72\n",
      "retirement        52\n",
      "talks             51\n",
      "negotiations      46\n",
      "Name: name, dtype: int64\n",
      "LOCATION\n",
      "taiwan           540\n",
      "united states    289\n",
      "u.s.             168\n",
      "state            152\n",
      "country          134\n",
      "Name: name, dtype: int64\n",
      "ORGANIZATION\n",
      "declassified authority    462\n",
      "government                353\n",
      "congress                  194\n",
      "agency                    171\n",
      "administration            137\n",
      "Name: name, dtype: int64\n",
      "OTHER\n",
      "relations    876\n",
      "law          251\n",
      "basis        199\n",
      "programs     195\n",
      "security     186\n",
      "Name: name, dtype: int64\n",
      "PERSON\n",
      "people         795\n",
      "president      645\n",
      "employees      122\n",
      "authorities    110\n",
      "employee        98\n",
      "Name: name, dtype: int64\n",
      "UNKNOWN\n",
      "taipei                                     1\n",
      "embassy of the united states of america    1\n",
      "台北市                                        1\n",
      "美國                                         1\n",
      "中華民國復興基地                                   1\n",
      "Name: name, dtype: int64\n",
      "WORK_OF_ART\n",
      "bill            229\n",
      "section         228\n",
      "declassified    109\n",
      "legislation     106\n",
      "amendment        81\n",
      "Name: name, dtype: int64\n"
     ]
    }
   ],
   "source": [
    "ty = ['EVENT','LOCATION']\n",
    "for t,group in ds_nlp.groupby('type'):\n",
    "    print t\n",
    "    print group.name.value_counts()[:5]"
   ]
  },
  {
   "cell_type": "code",
   "execution_count": null,
   "metadata": {
    "collapsed": true
   },
   "outputs": [],
   "source": []
  }
 ],
 "metadata": {
  "anaconda-cloud": {},
  "kernelspec": {
   "display_name": "Python [conda root]",
   "language": "python",
   "name": "conda-root-py"
  },
  "language_info": {
   "codemirror_mode": {
    "name": "ipython",
    "version": 2
   },
   "file_extension": ".py",
   "mimetype": "text/x-python",
   "name": "python",
   "nbconvert_exporter": "python",
   "pygments_lexer": "ipython2",
   "version": "2.7.12"
  }
 },
 "nbformat": 4,
 "nbformat_minor": 1
}
