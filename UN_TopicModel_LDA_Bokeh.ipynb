{
 "cells": [
  {
   "cell_type": "markdown",
   "metadata": {},
   "source": [
    "### Check point"
   ]
  },
  {
   "cell_type": "code",
   "execution_count": 1,
   "metadata": {
    "collapsed": false
   },
   "outputs": [
    {
     "data": {
      "text/html": [
       "<div>\n",
       "<style>\n",
       "    .dataframe thead tr:only-child th {\n",
       "        text-align: right;\n",
       "    }\n",
       "\n",
       "    .dataframe thead th {\n",
       "        text-align: left;\n",
       "    }\n",
       "\n",
       "    .dataframe tbody tr th {\n",
       "        vertical-align: top;\n",
       "    }\n",
       "</style>\n",
       "<table border=\"1\" class=\"dataframe\">\n",
       "  <thead>\n",
       "    <tr style=\"text-align: right;\">\n",
       "      <th></th>\n",
       "      <th>ocr_eng</th>\n",
       "    </tr>\n",
       "  </thead>\n",
       "  <tbody>\n",
       "    <tr>\n",
       "      <th>0</th>\n",
       "      <td>activities for regional nurses the regional nu...</td>\n",
       "    </tr>\n",
       "    <tr>\n",
       "      <th>1</th>\n",
       "      <td>to hug lien key map legend chingshu existing p...</td>\n",
       "    </tr>\n",
       "    <tr>\n",
       "      <th>2</th>\n",
       "      <td>the office of ohio t laepeetor serene that dor...</td>\n",
       "    </tr>\n",
       "    <tr>\n",
       "      <th>3</th>\n",
       "      <td>b ground water development in the muslin and c...</td>\n",
       "    </tr>\n",
       "    <tr>\n",
       "      <th>4</th>\n",
       "      <td>ten page 10 sodium bromide phonoborbital ferri...</td>\n",
       "    </tr>\n",
       "  </tbody>\n",
       "</table>\n",
       "</div>"
      ],
      "text/plain": [
       "                                             ocr_eng\n",
       "0  activities for regional nurses the regional nu...\n",
       "1  to hug lien key map legend chingshu existing p...\n",
       "2  the office of ohio t laepeetor serene that dor...\n",
       "3  b ground water development in the muslin and c...\n",
       "4  ten page 10 sodium bromide phonoborbital ferri..."
      ]
     },
     "execution_count": 1,
     "metadata": {},
     "output_type": "execute_result"
    }
   ],
   "source": [
    "import matplotlib.pyplot as plt\n",
    "%matplotlib inline\n",
    "\n",
    "import re\n",
    "import numpy as np\n",
    "import pandas as pd\n",
    "import lda\n",
    "from sklearn.feature_extraction.text import TfidfVectorizer, CountVectorizer\n",
    "from sklearn.decomposition import NMF, LatentDirichletAllocation\n",
    "from sklearn.manifold import TSNE\n",
    "import bokeh.plotting as bp\n",
    "from bokeh.plotting import save\n",
    "from bokeh.models import HoverTool\n",
    "from string import digits\n",
    "UN_full_text = pd.read_csv('data/UN_full_text.csv')\n",
    "UN_full_text.head()"
   ]
  },
  {
   "cell_type": "code",
   "execution_count": 2,
   "metadata": {
    "collapsed": false
   },
   "outputs": [],
   "source": [
    "remove_digits = str.maketrans('','',digits)\n",
    "def remove_number(text):\n",
    "    return text.translate(remove_digits)\n",
    "UN_full_text = UN_full_text.ocr_eng.map(remove_number,na_action='ignore')"
   ]
  },
  {
   "cell_type": "code",
   "execution_count": 3,
   "metadata": {
    "collapsed": false
   },
   "outputs": [
    {
     "name": "stdout",
     "output_type": "stream",
     "text": [
      "There are total 1284 documents and 2097759 words\n"
     ]
    }
   ],
   "source": [
    "text_length = UN_full_text.map(len,na_action='ignore')\n",
    "total_words = text_length.sum()\n",
    "print ('There are total {:d} documents and {:d} words'.format(len(text_length),text_length.sum()))"
   ]
  },
  {
   "cell_type": "code",
   "execution_count": 13,
   "metadata": {
    "collapsed": false
   },
   "outputs": [
    {
     "name": "stderr",
     "output_type": "stream",
     "text": [
      "INFO:lda:n_documents: 1284\n",
      "INFO:lda:vocab_size: 5007\n",
      "INFO:lda:n_words: 165658\n",
      "INFO:lda:n_topics: 10\n",
      "INFO:lda:n_iter: 500\n",
      "WARNING:lda:all zero row in document-term matrix found\n",
      "INFO:lda:<0> log likelihood: -1830236\n",
      "INFO:lda:<10> log likelihood: -1394828\n",
      "INFO:lda:<20> log likelihood: -1349247\n",
      "INFO:lda:<30> log likelihood: -1333115\n",
      "INFO:lda:<40> log likelihood: -1322625\n",
      "INFO:lda:<50> log likelihood: -1317874\n",
      "INFO:lda:<60> log likelihood: -1313840\n",
      "INFO:lda:<70> log likelihood: -1309822\n",
      "INFO:lda:<80> log likelihood: -1307745\n",
      "INFO:lda:<90> log likelihood: -1305247\n",
      "INFO:lda:<100> log likelihood: -1304166\n",
      "INFO:lda:<110> log likelihood: -1302592\n",
      "INFO:lda:<120> log likelihood: -1301894\n",
      "INFO:lda:<130> log likelihood: -1299882\n",
      "INFO:lda:<140> log likelihood: -1298689\n",
      "INFO:lda:<150> log likelihood: -1298133\n",
      "INFO:lda:<160> log likelihood: -1297201\n",
      "INFO:lda:<170> log likelihood: -1296885\n",
      "INFO:lda:<180> log likelihood: -1295796\n",
      "INFO:lda:<190> log likelihood: -1295674\n",
      "INFO:lda:<200> log likelihood: -1295095\n",
      "INFO:lda:<210> log likelihood: -1294600\n",
      "INFO:lda:<220> log likelihood: -1294381\n",
      "INFO:lda:<230> log likelihood: -1294425\n",
      "INFO:lda:<240> log likelihood: -1293438\n",
      "INFO:lda:<250> log likelihood: -1292562\n",
      "INFO:lda:<260> log likelihood: -1293588\n",
      "INFO:lda:<270> log likelihood: -1292097\n",
      "INFO:lda:<280> log likelihood: -1292230\n",
      "INFO:lda:<290> log likelihood: -1292001\n",
      "INFO:lda:<300> log likelihood: -1291102\n",
      "INFO:lda:<310> log likelihood: -1291626\n",
      "INFO:lda:<320> log likelihood: -1291340\n",
      "INFO:lda:<330> log likelihood: -1291491\n",
      "INFO:lda:<340> log likelihood: -1290683\n",
      "INFO:lda:<350> log likelihood: -1291101\n",
      "INFO:lda:<360> log likelihood: -1290818\n",
      "INFO:lda:<370> log likelihood: -1291152\n",
      "INFO:lda:<380> log likelihood: -1290946\n",
      "INFO:lda:<390> log likelihood: -1290027\n",
      "INFO:lda:<400> log likelihood: -1290084\n",
      "INFO:lda:<410> log likelihood: -1290265\n",
      "INFO:lda:<420> log likelihood: -1289535\n",
      "INFO:lda:<430> log likelihood: -1289612\n",
      "INFO:lda:<440> log likelihood: -1288894\n",
      "INFO:lda:<450> log likelihood: -1289158\n",
      "INFO:lda:<460> log likelihood: -1288748\n",
      "INFO:lda:<470> log likelihood: -1289146\n",
      "INFO:lda:<480> log likelihood: -1288293\n",
      "INFO:lda:<490> log likelihood: -1288963\n",
      "INFO:lda:<499> log likelihood: -1288516\n"
     ]
    },
    {
     "name": "stdout",
     "output_type": "stream",
     "text": [
      "[t-SNE] Computing 91 nearest neighbors...\n",
      "[t-SNE] Indexed 728 samples in 0.001s...\n",
      "[t-SNE] Computed neighbors for 728 samples in 0.020s...\n",
      "[t-SNE] Computed conditional probabilities for sample 728 / 728\n",
      "[t-SNE] Mean sigma: 0.115823\n",
      "[t-SNE] KL divergence after 250 iterations with early exaggeration: 45.578033\n",
      "[t-SNE] Error after 1000 iterations: 0.244860\n"
     ]
    },
    {
     "data": {
      "text/plain": [
       "<matplotlib.collections.PathCollection at 0x11ac18128>"
      ]
     },
     "execution_count": 13,
     "metadata": {},
     "output_type": "execute_result"
    },
    {
     "data": {
      "image/png": "[encoded data removed]",
      "text/plain": [
       "<matplotlib.figure.Figure at 0x118927ac8>"
      ]
     },
     "metadata": {},
     "output_type": "display_data"
    }
   ],
   "source": [
    "documents = UN_full_text.values\n",
    "n_topics = 10 \n",
    "n_iter = 500\n",
    "n_top_words = 5\n",
    "threshold = 0.5\n",
    "cvectorizer = CountVectorizer(min_df=5, stop_words='english')\n",
    "cvz = cvectorizer.fit_transform(documents)\n",
    "lda_model = lda.LDA(n_topics=n_topics, n_iter=n_iter)\n",
    "X_topics = lda_model.fit_transform(cvz)\n",
    "\n",
    "_idx = np.amax(X_topics, axis=1) > threshold  # idx of news that > threshold\n",
    "_topics = X_topics[_idx]\n",
    "num_example = len(_topics)\n",
    "\n",
    "tsne_model = TSNE(n_components=2, verbose=1, random_state=0, angle=.99, init='pca')\n",
    "tsne_lda = tsne_model.fit_transform(_topics[:num_example])\n",
    "\n",
    "_lda_keys = []\n",
    "for i in range(_topics.shape[0]):\n",
    "    _lda_keys.append(_topics[i].argmax())\n",
    "\n",
    "topic_summaries = []\n",
    "topic_word = lda_model.topic_word_  # get the topic words\n",
    "vocab = cvectorizer.get_feature_names()\n",
    "for i, topic_dist in enumerate(topic_word):\n",
    "    topic_words = np.array(vocab)[np.argsort(topic_dist)][:-(n_top_words+1):-1]\n",
    "    topic_summaries.append(' '.join(topic_words))\n",
    "\n",
    "colormap = np.array([\n",
    "    \"#1f77b4\", \"#aec7e8\", \"#ff7f0e\", \"#ffbb78\", \"#2ca02c\",\n",
    "    \"#98df8a\", \"#d62728\", \"#ff9896\", \"#9467bd\", \"#c5b0d5\",\n",
    "])\n",
    "\n",
    "plt.scatter(x=tsne_lda[:, 0], y=tsne_lda[:, 1],color=colormap[_lda_keys][:num_example])"
   ]
  },
  {
   "cell_type": "code",
   "execution_count": 15,
   "metadata": {
    "collapsed": false,
    "scrolled": true
   },
   "outputs": [
    {
     "name": "stderr",
     "output_type": "stream",
     "text": [
      "/Users/yhhsu/Anaconda/anaconda/envs/NLP/lib/python3.6/site-packages/bokeh/util/deprecation.py:34: BokehDeprecationWarning: \n",
      "Supplying a user-defined data source AND iterable values to glyph methods is deprecated.\n",
      "\n",
      "See https://github.com/bokeh/bokeh/issues/2056 for more information.\n",
      "\n",
      "  warn(message)\n",
      "/Users/yhhsu/Anaconda/anaconda/envs/NLP/lib/python3.6/site-packages/bokeh/util/deprecation.py:34: BokehDeprecationWarning: \n",
      "Supplying a user-defined data source AND iterable values to glyph methods is deprecated.\n",
      "\n",
      "See https://github.com/bokeh/bokeh/issues/2056 for more information.\n",
      "\n",
      "  warn(message)\n",
      "/Users/yhhsu/Anaconda/anaconda/envs/NLP/lib/python3.6/site-packages/bokeh/util/deprecation.py:34: BokehDeprecationWarning: \n",
      "Supplying a user-defined data source AND iterable values to glyph methods is deprecated.\n",
      "\n",
      "See https://github.com/bokeh/bokeh/issues/2056 for more information.\n",
      "\n",
      "  warn(message)\n",
      "/Users/yhhsu/Anaconda/anaconda/envs/NLP/lib/python3.6/site-packages/bokeh/util/deprecation.py:34: BokehDeprecationWarning: \n",
      "Supplying a user-defined data source AND iterable values to glyph methods is deprecated.\n",
      "\n",
      "See https://github.com/bokeh/bokeh/issues/2056 for more information.\n",
      "\n",
      "  warn(message)\n",
      "/Users/yhhsu/Anaconda/anaconda/envs/NLP/lib/python3.6/site-packages/bokeh/io.py:527: UserWarning: save() called but no resources were supplied and output_file(...) was never called, defaulting to resources.CDN\n",
      "  warnings.warn(\"save() called but no resources were supplied and output_file(...) was never called, defaulting to resources.CDN\")\n",
      "/Users/yhhsu/Anaconda/anaconda/envs/NLP/lib/python3.6/site-packages/bokeh/io.py:537: UserWarning: save() called but no title was supplied and output_file(...) was never called, using default title 'Bokeh Plot'\n",
      "  warnings.warn(\"save() called but no title was supplied and output_file(...) was never called, using default title 'Bokeh Plot'\")\n"
     ]
    },
    {
     "data": {
      "text/plain": [
       "'/Users/yhhsu/Desktop/DataScience/NationalTreasure/TNT_UN_tsne_lda_viz.html'"
      ]
     },
     "execution_count": 15,
     "metadata": {},
     "output_type": "execute_result"
    }
   ],
   "source": [
    "title = \"t-SNE visualization of LDA model\".format(\n",
    "    X_topics.shape[0], n_topics, threshold, n_iter, num_example, n_top_words)\n",
    "\n",
    "plot_lda = bp.figure(plot_width=800, plot_height=600,\n",
    "                   title=title,\n",
    "                   tools=\"pan,wheel_zoom,box_zoom,reset,hover,previewsave\",\n",
    "                   x_axis_type=None, y_axis_type=None, min_border=1)\n",
    "\n",
    "plot_lda.scatter(x=tsne_lda[:, 0], y=tsne_lda[:, 1],\n",
    "               color=colormap[_lda_keys][:num_example],\n",
    "               source=bp.ColumnDataSource({\n",
    "                 \"content\": documents[:num_example],\n",
    "                 \"topic_key\": _lda_keys[:num_example]\n",
    "                 }))\n",
    "\n",
    "topic_coord = np.empty((X_topics.shape[1], 2)) * np.nan\n",
    "for topic_num in _lda_keys:\n",
    "    if not np.isnan(topic_coord).any():\n",
    "          break\n",
    "    topic_coord[topic_num] = tsne_lda[_lda_keys[topic_num]]\n",
    "\n",
    "for i in range(X_topics.shape[1]):\n",
    "    plot_lda.text(topic_coord[i, 0], topic_coord[i, 1], [topic_summaries[i]])\n",
    "\n",
    "hover = plot_lda.select(dict(type=HoverTool))\n",
    "hover.tooltips = {\"content\": \"@content - topic: @topic_key\"}\n",
    "\n",
    "save(plot_lda, 'TNT_UN_tsne_lda_viz.html')"
   ]
  }
 ],
 "metadata": {
  "anaconda-cloud": {},
  "kernelspec": {
   "display_name": "Python [conda env:NLP]",
   "language": "python",
   "name": "conda-env-NLP-py"
  },
  "language_info": {
   "codemirror_mode": {
    "name": "ipython",
    "version": 3
   },
   "file_extension": ".py",
   "mimetype": "text/x-python",
   "name": "python",
   "nbconvert_exporter": "python",
   "pygments_lexer": "ipython3",
   "version": "3.6.2"
  }
 },
 "nbformat": 4,
 "nbformat_minor": 1
}
