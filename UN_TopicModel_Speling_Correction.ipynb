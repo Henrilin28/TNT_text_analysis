{
 "cells": [
  {
   "cell_type": "code",
   "execution_count": null,
   "metadata": {
    "collapsed": false
   },
   "outputs": [],
   "source": [
    "from TNT_Api import TNT_Api\n",
    "UN = TNT_Api(tag='聯合國',nlimit=10000)"
   ]
  },
  {
   "cell_type": "code",
   "execution_count": null,
   "metadata": {
    "collapsed": false
   },
   "outputs": [
    {
     "name": "stdout",
     "output_type": "stream",
     "text": [
      "1377 documents found in tag 聯合國\n",
      "downloading, 10000 to go\n",
      "0 data downloaded\n",
      "error: <class 'KeyboardInterrupt'>\n",
      "100 data downloaded\n",
      "error: <class 'KeyboardInterrupt'>\n",
      "error: <class 'KeyboardInterrupt'>\n"
     ]
    }
   ],
   "source": [
    "UN.get_data()"
   ]
  },
  {
   "cell_type": "code",
   "execution_count": null,
   "metadata": {
    "collapsed": false
   },
   "outputs": [],
   "source": [
    "## Simple Cleaning and Spelling Correction\n",
    "ocr = UN.ocr.copy().reset_index()\n",
    "def replace_line_change(t):\n",
    "    if len(t)>0: return t[0].replace('\\n',' ')\n",
    "    else: return None\n",
    "ocr['ocr_text'] = ocr.ocr.map(replace_line_change,na_action='ignore')"
   ]
  },
  {
   "cell_type": "code",
   "execution_count": null,
   "metadata": {
    "collapsed": true
   },
   "outputs": [],
   "source": [
    "## Remove non-English\n",
    "from langdetect import detect, DetectorFactory\n",
    "from langdetect import detect_langs\n",
    "DetectorFactory.seed =0 \n",
    "def remove_non_eng(text):\n",
    "    if detect(text)=='en':return text\n",
    "    else: return None\n",
    "ocr['ocr_eng'] = ocr.ocr_text.map(remove_non_eng,na_action='ignore')"
   ]
  },
  {
   "cell_type": "code",
   "execution_count": null,
   "metadata": {
    "collapsed": false
   },
   "outputs": [],
   "source": [
    "ocr = ocr.dropna(axis=0,how='any')"
   ]
  },
  {
   "cell_type": "code",
   "execution_count": null,
   "metadata": {
    "collapsed": true
   },
   "outputs": [],
   "source": [
    "ocr.to_csv('data/UN_raw.csv')"
   ]
  },
  {
   "cell_type": "markdown",
   "metadata": {},
   "source": [
    "### Checkpoint"
   ]
  },
  {
   "cell_type": "code",
   "execution_count": 1,
   "metadata": {
    "collapsed": false
   },
   "outputs": [],
   "source": [
    "import enchant\n",
    "import spelling_correction as sc\n",
    "import numpy as np\n",
    "import pandas as pd\n",
    "ocr = pd.read_csv('data/UN_raw.csv')\n",
    "chkr = enchant.Dict('en_US')"
   ]
  },
  {
   "cell_type": "code",
   "execution_count": 2,
   "metadata": {
    "collapsed": false
   },
   "outputs": [],
   "source": [
    "import numpy as np\n",
    "test = ocr.ocr_eng.copy()\n",
    "def check_mis_spell(text):\n",
    "    mis_rate = np.sum([chkr.check(w) for w in sc.words(text)])/len(sc.words(text))\n",
    "    return mis_rate\n",
    "mis_rate = test.map(check_mis_spell,na_action='ignore')"
   ]
  },
  {
   "cell_type": "code",
   "execution_count": 3,
   "metadata": {
    "collapsed": false
   },
   "outputs": [
    {
     "data": {
      "text/plain": [
       "count    1284.000000\n",
       "mean        0.745149\n",
       "std         0.129976\n",
       "min         0.142857\n",
       "25%         0.648372\n",
       "50%         0.763583\n",
       "75%         0.849270\n",
       "max         1.000000\n",
       "Name: ocr_eng, dtype: float64"
      ]
     },
     "execution_count": 3,
     "metadata": {},
     "output_type": "execute_result"
    }
   ],
   "source": [
    "mis_rate.describe()"
   ]
  },
  {
   "cell_type": "code",
   "execution_count": 4,
   "metadata": {
    "collapsed": false
   },
   "outputs": [
    {
     "name": "stdout",
     "output_type": "stream",
     "text": [
      "There are total 1284 documents and 2199153 words\n"
     ]
    }
   ],
   "source": [
    "text_length = test.map(len,na_action='ignore')\n",
    "total_words = text_length.sum()\n",
    "print ('There are total {:d} documents and {:d} words'.format(len(text_length),text_length.sum()))"
   ]
  },
  {
   "cell_type": "code",
   "execution_count": 97,
   "metadata": {
    "collapsed": false,
    "scrolled": true
   },
   "outputs": [
    {
     "name": "stdout",
     "output_type": "stream",
     "text": [
      "53.05303406715393\n"
     ]
    }
   ],
   "source": [
    "import time\n",
    "def auto_correct(text):\n",
    "    wordlist = []\n",
    "    correct_dic = {}\n",
    "    for w in sc.words(text):\n",
    "        if chkr.check(w): wordlist.append(w)\n",
    "        else: \n",
    "            c = sc.correction(w)\n",
    "            wordlist.append(c)\n",
    "            correct_dic[w]=c\n",
    "    return wordlist,correct_dic\n",
    "start = time.time()\n",
    "subset = test.iloc[:20].map(auto_correct,na_action='ignore')\n",
    "end = time.time()-start\n",
    "print (end)"
   ]
  },
  {
   "cell_type": "markdown",
   "metadata": {},
   "source": [
    "### Check Point"
   ]
  },
  {
   "cell_type": "code",
   "execution_count": 100,
   "metadata": {
    "collapsed": false
   },
   "outputs": [
    {
     "data": {
      "text/plain": [
       "{'0ive': '0ive',\n",
       " '1mnizntions': '1mnizntions',\n",
       " '40better': '40better',\n",
       " 'aartoda': 'aartoda',\n",
       " 'activitis': 'activities',\n",
       " 'agn': 'an',\n",
       " 'aidwifery': 'aidwifery',\n",
       " 'allovlate': 'alleviate',\n",
       " 'alnts': 'ants',\n",
       " 'ander': 'under',\n",
       " 'ao': 'to',\n",
       " 'arette': 'pretty',\n",
       " 'arrengesent': 'arrangement',\n",
       " 'aselet': 'asleep',\n",
       " 'aso': 'as',\n",
       " 'aste': 'haste',\n",
       " 'atinulate': 'stimulate',\n",
       " 'atiulating': 'stimulating',\n",
       " 'attendente': 'attendance',\n",
       " 'aursos': 'across',\n",
       " 'aurvey': 'survey',\n",
       " 'aust': 'must',\n",
       " 'basie': 'base',\n",
       " 'becoso': 'become',\n",
       " 'bedeide': 'bedside',\n",
       " 'bedsoree': 'bedsoree',\n",
       " 'ber': 'be',\n",
       " 'bethine': 'bethink',\n",
       " 'bo': 'to',\n",
       " 'bospi': 'bosom',\n",
       " 'botter': 'better',\n",
       " 'bre': 'be',\n",
       " 'bsir': 'sir',\n",
       " 'cardboerd': 'cardboard',\n",
       " 'ceatre': 'centre',\n",
       " 'cen': 'men',\n",
       " 'cere': 'were',\n",
       " 'cnrra': 'carry',\n",
       " 'contaat': 'contact',\n",
       " 'contaet': 'contact',\n",
       " 'couisunicable': 'couisunicable',\n",
       " 'deonstration': 'demonstration',\n",
       " 'dharge': 'charge',\n",
       " 'direetortbrina2d4ngeabahodnoatiog': 'direetortbrina2d4ngeabahodnoatiog',\n",
       " 'discass': 'discuss',\n",
       " 'diseovorios': 'diseovorios',\n",
       " 'disonee': 'disobey',\n",
       " 'dnd': 'and',\n",
       " 'dreceings': 'dressings',\n",
       " 'dreine': 'drive',\n",
       " 'eaperviso': 'eaperviso',\n",
       " 'eellophene': 'eellophene',\n",
       " 'eharge': 'charge',\n",
       " 'ei': 'i',\n",
       " 'eisplified': 'eisplified',\n",
       " 'eitunt': 'extent',\n",
       " 'eitustion': 'situation',\n",
       " 'elinic': 'clinic',\n",
       " 'ellocution': 'elocution',\n",
       " 'elnssrooms': 'elnssrooms',\n",
       " 'eno': 'no',\n",
       " 'eoneernod': 'eoneernod',\n",
       " 'eord': 'word',\n",
       " 'equipsent': 'equipment',\n",
       " 'equipsent1inon': 'equipsent1inon',\n",
       " 'este': 'est',\n",
       " 'etudente': 'student',\n",
       " 'etudy': 'study',\n",
       " 'eupplies': 'supplies',\n",
       " 'euppltes': 'supplies',\n",
       " 'exoniuation': 'exoniuation',\n",
       " 'flouroseops': 'flouroseops',\n",
       " 'funetion': 'function',\n",
       " 'heip': 'help',\n",
       " 'hend': 'hand',\n",
       " 'henlth': 'health',\n",
       " 'henoglobin': 'haemoglobin',\n",
       " 'iatorantion': 'iatorantion',\n",
       " 'ietribation': 'retribution',\n",
       " 'improvieations': 'improvisations',\n",
       " 'ine': 'in',\n",
       " 'ines': 'lines',\n",
       " 'inet': 'net',\n",
       " 'inetance': 'instance',\n",
       " 'infeetions': 'infections',\n",
       " 'ing': 'ing',\n",
       " 'instanco': 'instance',\n",
       " 'ith': 'it',\n",
       " 'learo': 'learn',\n",
       " 'liutle': 'little',\n",
       " 'lnhrn': 'learn',\n",
       " 'mediea1': 'mediea1',\n",
       " 'naraiag': 'naraiag',\n",
       " 'nare': 'are',\n",
       " 'naree': 'nares',\n",
       " 'narsi': 'nasi',\n",
       " 'nd': 'nd',\n",
       " 'needa': 'need',\n",
       " 'nite': 'note',\n",
       " 'nnd': 'and',\n",
       " 'nodical': 'radical',\n",
       " 'noeded': 'needed',\n",
       " 'nuree': 'nurse',\n",
       " 'nurees': 'nurses',\n",
       " 'nureing': 'nursing',\n",
       " 'nursen': 'nurse',\n",
       " 'nurti': 'north',\n",
       " 'nutritionstafr': 'nutritionstafr',\n",
       " 'o11': 'o11',\n",
       " 'obstetrie': 'obstetrie',\n",
       " 'oduention': 'oduention',\n",
       " 'ofd': 'of',\n",
       " 'offorta': 'effort',\n",
       " 'opd': 'old',\n",
       " 'oquipaent': 'equipment',\n",
       " 'orricer': 'officer',\n",
       " 'outiay': 'mutiny',\n",
       " 'overerowding': 'overcrowding',\n",
       " 'pationt': 'patient',\n",
       " 'pedbleca': 'pedbleca',\n",
       " 'pediatrie': 'pediatrie',\n",
       " 'peper': 'paper',\n",
       " 'pereon': 'person',\n",
       " 'pereonnel': 'personnel',\n",
       " 'petiente': 'patient',\n",
       " 'physien': 'physics',\n",
       " 'por': 'for',\n",
       " 'poriodie': 'periodic',\n",
       " 'pose1ble': 'pose1ble',\n",
       " 'ppobbeno': 'ppobbeno',\n",
       " 'prepent': 'present',\n",
       " 'prerest': 'present',\n",
       " 'prevout': 'prevent',\n",
       " 'probaans': 'probaans',\n",
       " 'problons': 'problems',\n",
       " 'progran': 'program',\n",
       " 'provent': 'prevent',\n",
       " 'querters': 'quarters',\n",
       " 'quipment': 'equipment',\n",
       " 'redienl': 'redienl',\n",
       " 'reglonel': 'regional',\n",
       " 'renember': 'remember',\n",
       " 'rer': 'her',\n",
       " 'rgional': 'regional',\n",
       " 'rosovil': 'rosovil',\n",
       " 's11': 's11',\n",
       " 'selg': 'self',\n",
       " 'seseion': 'session',\n",
       " 'slways': 'always',\n",
       " 'sna': 'sea',\n",
       " 'snother': 'another',\n",
       " 'soet': 'set',\n",
       " 'specifie': 'specific',\n",
       " 'stinilete': 'stinilete',\n",
       " 'studente': 'student',\n",
       " 'suffieient': 'sufficient',\n",
       " 'te': 'te',\n",
       " 'teachine': 'teaching',\n",
       " 'teehniquos': 'teehniquos',\n",
       " 'teke': 'take',\n",
       " 'terna': 'ten',\n",
       " 'thlks': 'talks',\n",
       " 'treining': 'training',\n",
       " 'tthwhat': 'tthwhat',\n",
       " 'twha': 'the',\n",
       " 'uneover': 'uncover',\n",
       " 'uureo': 'sure',\n",
       " 'vertous': 'various',\n",
       " 'vill': 'vill',\n",
       " 'weie': 'were',\n",
       " 'wi1l': 'wi1l',\n",
       " 'withb': 'with',\n",
       " 'zse': 'use'}"
      ]
     },
     "execution_count": 100,
     "metadata": {},
     "output_type": "execute_result"
    }
   ],
   "source": [
    "subset[0][1]"
   ]
  },
  {
   "cell_type": "code",
   "execution_count": 82,
   "metadata": {
    "collapsed": false
   },
   "outputs": [],
   "source": [
    "uncorrected = pd.read_csv('data/UN_raw.csv',usecols=['ocr_eng'])\n",
    "corrected = pd.read_csv('data/UN_full_text.csv')\n",
    "uncorrected_words = uncorrected.ocr_eng.map(sc.words,na_action='ignore').sum()\n",
    "corrected_words = corrected.ocr_eng.map(sc.words,na_action='ignore').sum()"
   ]
  },
  {
   "cell_type": "code",
   "execution_count": 91,
   "metadata": {
    "collapsed": true
   },
   "outputs": [],
   "source": [
    "from collections import Counter\n",
    "from nltk.corpus import stopwords\n",
    "filtered_words1 = [word for word in uncorrected_words if word not in stopwords.words('english')]"
   ]
  },
  {
   "cell_type": "code",
   "execution_count": 86,
   "metadata": {
    "collapsed": true
   },
   "outputs": [],
   "source": [
    "filtered_words2 = [word for word in corrected_words if word not in stopwords.words('english')]"
   ]
  },
  {
   "cell_type": "code",
   "execution_count": 103,
   "metadata": {
    "collapsed": false,
    "scrolled": false
   },
   "outputs": [
    {
     "data": {
      "text/plain": [
       "([<matplotlib.axis.XTick at 0x11ca1c128>,\n",
       "  <matplotlib.axis.XTick at 0x11ca1c748>,\n",
       "  <matplotlib.axis.XTick at 0x11cb1aef0>,\n",
       "  <matplotlib.axis.XTick at 0x11cb29710>,\n",
       "  <matplotlib.axis.XTick at 0x11cb29d68>,\n",
       "  <matplotlib.axis.XTick at 0x11cb1c438>,\n",
       "  <matplotlib.axis.XTick at 0x11cb1cac8>,\n",
       "  <matplotlib.axis.XTick at 0x11cb1d198>,\n",
       "  <matplotlib.axis.XTick at 0x11cb1d828>,\n",
       "  <matplotlib.axis.XTick at 0x11cb1deb8>,\n",
       "  <matplotlib.axis.XTick at 0x11cb48588>,\n",
       "  <matplotlib.axis.XTick at 0x11cb48c18>,\n",
       "  <matplotlib.axis.XTick at 0x11cb242e8>,\n",
       "  <matplotlib.axis.XTick at 0x11cb24978>,\n",
       "  <matplotlib.axis.XTick at 0x11cada048>,\n",
       "  <matplotlib.axis.XTick at 0x11cada6d8>,\n",
       "  <matplotlib.axis.XTick at 0x11cadad68>,\n",
       "  <matplotlib.axis.XTick at 0x11caec438>,\n",
       "  <matplotlib.axis.XTick at 0x11caecac8>,\n",
       "  <matplotlib.axis.XTick at 0x11cafa198>],\n",
       " <a list of 20 Text xticklabel objects>)"
      ]
     },
     "execution_count": 103,
     "metadata": {},
     "output_type": "execute_result"
    },
    {
     "data": {
      "image/png": "[encoded data removed]",
      "text/plain": [
       "<matplotlib.figure.Figure at 0x11cb39d68>"
      ]
     },
     "metadata": {},
     "output_type": "display_data"
    }
   ],
   "source": [
    "import matplotlib.pyplot as plt\n",
    "%matplotlib inline\n",
    "counts1 = Counter(filtered_words1)\n",
    "labels1, values1 = zip(*counts.items())\n",
    "indSort1 = np.argsort(values1)[-20:-40:-1]\n",
    "labels1 = np.array(labels1)[indSort1]\n",
    "values1 = np.array(values1)[indSort1]\n",
    "indexes1 = np.arange(len(labels1))\n",
    "\n",
    "\n",
    "bar_width = 0.2\n",
    "plt.figure(figsize=(16,8))\n",
    "plt.bar(indexes1, values1)\n",
    "plt.xticks(indexes1 + bar_width, labels1)"
   ]
  },
  {
   "cell_type": "code",
   "execution_count": 101,
   "metadata": {
    "collapsed": false
   },
   "outputs": [
    {
     "data": {
      "image/png": "[encoded data removed]",
      "text/plain": [
       "<matplotlib.figure.Figure at 0x110b99be0>"
      ]
     },
     "metadata": {},
     "output_type": "display_data"
    }
   ],
   "source": [
    "from collections import Counter\n",
    "from nltk.corpus import stopwords\n",
    "import matplotlib.pyplot as plt\n",
    "%matplotlib inline\n",
    "counts = Counter(filtered_words2)\n",
    "labels, values = zip(*counts.items())\n",
    "indSort = np.argsort(values)[-20:-40:-1]\n",
    "labels = np.array(labels)[indSort]\n",
    "values = np.array(values)[indSort]\n",
    "indexes = np.arange(len(labels))\n",
    "bar_width = 0.2\n",
    "fig = plt.figure(figsize=(16,8))\n",
    "plt.bar(indexes, values)\n",
    "plt.xticks(indexes + bar_width, labels)\n",
    "plt.show()"
   ]
  }
 ],
 "metadata": {
  "anaconda-cloud": {},
  "kernelspec": {
   "display_name": "Python [conda env:NLP]",
   "language": "python",
   "name": "conda-env-NLP-py"
  },
  "language_info": {
   "codemirror_mode": {
    "name": "ipython",
    "version": 3
   },
   "file_extension": ".py",
   "mimetype": "text/x-python",
   "name": "python",
   "nbconvert_exporter": "python",
   "pygments_lexer": "ipython3",
   "version": "3.6.2"
  }
 },
 "nbformat": 4,
 "nbformat_minor": 1
}
