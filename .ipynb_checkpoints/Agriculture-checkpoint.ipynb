{
 "cells": [
  {
   "cell_type": "code",
   "execution_count": 1,
   "metadata": {
    "collapsed": false
   },
   "outputs": [
    {
     "name": "stdout",
     "output_type": "stream",
     "text": [
      "link:https://api.nationaltreasure.tw/v1/upload?tag=%E8%BE%B2%E6%A5%AD%E7%9B%B8%E9%97%9C\n",
      "sample uid list\n",
      "https://api.nationaltreasure.tw/v1/upload?uid=bb4a03a0-d605-11e7-9bef-6f7a28de55ec\n",
      "https://api.nationaltreasure.tw/v1/upload?uid=c5b8e9a0-d605-11e7-9bef-6f7a28de55ec\n",
      "https://api.nationaltreasure.tw/v1/upload?uid=d41d9ae0-d605-11e7-8c88-adf669ad361e\n",
      "https://api.nationaltreasure.tw/v1/upload?uid=e83816e0-d605-11e7-8c88-adf669ad361e\n",
      "https://api.nationaltreasure.tw/v1/upload?uid=edda80b0-d605-11e7-839a-3da120885759\n",
      "0 data downloaded\n",
      "100 data downloaded\n",
      "200 data downloaded\n",
      "300 data downloaded\n",
      "400 data downloaded\n",
      "500 data downloaded\n",
      "600 data downloaded\n",
      "700 data downloaded\n",
      "800 data downloaded\n",
      "900 data downloaded\n"
     ]
    }
   ],
   "source": [
    "import get_data\n",
    "df = get_data.get_TNT_data(tag='農業相關')"
   ]
  },
  {
   "cell_type": "code",
   "execution_count": 2,
   "metadata": {
    "collapsed": true
   },
   "outputs": [],
   "source": [
    "ocr = df.ocr.map(lambda x: x[0] if len(x)>10 else None).drop_duplicates().dropna()"
   ]
  },
  {
   "cell_type": "code",
   "execution_count": null,
   "metadata": {
    "collapsed": true
   },
   "outputs": [],
   "source": []
  }
 ],
 "metadata": {
  "kernelspec": {
   "display_name": "Python [conda root]",
   "language": "python",
   "name": "conda-root-py"
  },
  "language_info": {
   "codemirror_mode": {
    "name": "ipython",
    "version": 2
   },
   "file_extension": ".py",
   "mimetype": "text/x-python",
   "name": "python",
   "nbconvert_exporter": "python",
   "pygments_lexer": "ipython2",
   "version": "2.7.12"
  }
 },
 "nbformat": 4,
 "nbformat_minor": 1
}
