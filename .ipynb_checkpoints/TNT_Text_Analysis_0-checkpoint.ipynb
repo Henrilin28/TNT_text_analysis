{
 "cells": [
  {
   "cell_type": "code",
   "execution_count": 7,
   "metadata": {
    "collapsed": false
   },
   "outputs": [],
   "source": [
    "import urllib2 as ul\n",
    "import requests, json\n",
    "NLAPI = str(\"https://api.nationaltreasure.tw/v1/upload\")"
   ]
  },
  {
   "cell_type": "code",
   "execution_count": 103,
   "metadata": {
    "collapsed": false
   },
   "outputs": [],
   "source": [
    "data = ul.urlopen(NLAPI)"
   ]
  },
  {
   "cell_type": "code",
   "execution_count": 108,
   "metadata": {
    "collapsed": false
   },
   "outputs": [
    {
     "data": {
      "text/plain": [
       "<httplib.HTTPMessage instance at 0x110afe7a0>"
      ]
     },
     "execution_count": 108,
     "metadata": {},
     "output_type": "execute_result"
    }
   ],
   "source": [
    "data."
   ]
  },
  {
   "cell_type": "code",
   "execution_count": 104,
   "metadata": {
    "collapsed": false
   },
   "outputs": [],
   "source": [
    "parsed_data = json.loads(data.read())"
   ]
  },
  {
   "cell_type": "code",
   "execution_count": 41,
   "metadata": {
    "collapsed": false
   },
   "outputs": [],
   "source": [
    "count = parsed_data['Count']\n",
    "Items = parsed_data['Items']"
   ]
  },
  {
   "cell_type": "code",
   "execution_count": 50,
   "metadata": {
    "collapsed": false
   },
   "outputs": [],
   "source": [
    "uid_list = [u.get('uid') for u in parsed_data['Items']]"
   ]
  },
  {
   "cell_type": "code",
   "execution_count": 105,
   "metadata": {
    "collapsed": false
   },
   "outputs": [],
   "source": [
    "link = NLAPI+'?uid='+uid_list[0]"
   ]
  },
  {
   "cell_type": "code",
   "execution_count": 109,
   "metadata": {
    "collapsed": false
   },
   "outputs": [],
   "source": [
    "doc = json.load(ul.urlopen(link))"
   ]
  },
  {
   "cell_type": "code",
   "execution_count": 89,
   "metadata": {
    "collapsed": false
   },
   "outputs": [
    {
     "data": {
      "text/html": [
       "<div>\n",
       "<table border=\"1\" class=\"dataframe\">\n",
       "  <thead>\n",
       "    <tr style=\"text-align: right;\">\n",
       "      <th></th>\n",
       "      <th>Item</th>\n",
       "    </tr>\n",
       "  </thead>\n",
       "  <tbody>\n",
       "    <tr>\n",
       "      <th>docId</th>\n",
       "      <td>3303795</td>\n",
       "    </tr>\n",
       "    <tr>\n",
       "      <th>endYear</th>\n",
       "      <td>1980</td>\n",
       "    </tr>\n",
       "    <tr>\n",
       "      <th>imageKey</th>\n",
       "      <td>NARA/3303795/1f5cd880-88eb-11e7-b276-4d7eb1b5b...</td>\n",
       "    </tr>\n",
       "    <tr>\n",
       "      <th>isNotDocument</th>\n",
       "      <td>False</td>\n",
       "    </tr>\n",
       "    <tr>\n",
       "      <th>isReadyForView</th>\n",
       "      <td>False</td>\n",
       "    </tr>\n",
       "    <tr>\n",
       "      <th>location</th>\n",
       "      <td>NARA</td>\n",
       "    </tr>\n",
       "    <tr>\n",
       "      <th>metadata</th>\n",
       "      <td>{u'box': u'62-63', u'containerId': u'62-63', u...</td>\n",
       "    </tr>\n",
       "    <tr>\n",
       "      <th>nlpEn</th>\n",
       "      <td>[{u'entities': [{u'name': u'COMMEPCIAL', u'sen...</td>\n",
       "    </tr>\n",
       "    <tr>\n",
       "      <th>nlpZh</th>\n",
       "      <td>[{u'entities': [{u'name': u'\\u5168\\u9ad4\\u6703...</td>\n",
       "    </tr>\n",
       "    <tr>\n",
       "      <th>ocr</th>\n",
       "      <td>[DECLASSIFIED\\nFLE\\nTO WHITE HOUSE\\nSECSTATE\\n...</td>\n",
       "    </tr>\n",
       "    <tr>\n",
       "      <th>originalUrl</th>\n",
       "      <td>https://s3.amazonaws.com/national-treasure/NAR...</td>\n",
       "    </tr>\n",
       "    <tr>\n",
       "      <th>primaryTag</th>\n",
       "      <td>中美斷交</td>\n",
       "    </tr>\n",
       "    <tr>\n",
       "      <th>resizedUrls</th>\n",
       "      <td>{u'smallUrl': u'https://s3.amazonaws.com/natio...</td>\n",
       "    </tr>\n",
       "    <tr>\n",
       "      <th>startYear</th>\n",
       "      <td>1977</td>\n",
       "    </tr>\n",
       "    <tr>\n",
       "      <th>timestamp</th>\n",
       "      <td>1503592857</td>\n",
       "    </tr>\n",
       "    <tr>\n",
       "      <th>translate</th>\n",
       "      <td>[解密\\nFLE\\n致白宮\\nSECSTATE\\nZEM\\nSECRET T SPFCAT ...</td>\n",
       "    </tr>\n",
       "    <tr>\n",
       "      <th>uid</th>\n",
       "      <td>1f5cd880-88eb-11e7-b276-4d7eb1b5b1eb</td>\n",
       "    </tr>\n",
       "    <tr>\n",
       "      <th>userId</th>\n",
       "      <td>1fcaca0e-83c3-45a8-8e20-806bd3c13047</td>\n",
       "    </tr>\n",
       "  </tbody>\n",
       "</table>\n",
       "</div>"
      ],
      "text/plain": [
       "                                                             Item\n",
       "docId                                                     3303795\n",
       "endYear                                                      1980\n",
       "imageKey        NARA/3303795/1f5cd880-88eb-11e7-b276-4d7eb1b5b...\n",
       "isNotDocument                                               False\n",
       "isReadyForView                                              False\n",
       "location                                                     NARA\n",
       "metadata        {u'box': u'62-63', u'containerId': u'62-63', u...\n",
       "nlpEn           [{u'entities': [{u'name': u'COMMEPCIAL', u'sen...\n",
       "nlpZh           [{u'entities': [{u'name': u'\\u5168\\u9ad4\\u6703...\n",
       "ocr             [DECLASSIFIED\\nFLE\\nTO WHITE HOUSE\\nSECSTATE\\n...\n",
       "originalUrl     https://s3.amazonaws.com/national-treasure/NAR...\n",
       "primaryTag                                                   中美斷交\n",
       "resizedUrls     {u'smallUrl': u'https://s3.amazonaws.com/natio...\n",
       "startYear                                                    1977\n",
       "timestamp                                              1503592857\n",
       "translate       [解密\\nFLE\\n致白宮\\nSECSTATE\\nZEM\\nSECRET T SPFCAT ...\n",
       "uid                          1f5cd880-88eb-11e7-b276-4d7eb1b5b1eb\n",
       "userId                       1fcaca0e-83c3-45a8-8e20-806bd3c13047"
      ]
     },
     "execution_count": 89,
     "metadata": {},
     "output_type": "execute_result"
    }
   ],
   "source": [
    "import pandas as pd\n",
    "pd.DataFrame(doc)"
   ]
  },
  {
   "cell_type": "code",
   "execution_count": 93,
   "metadata": {
    "collapsed": false
   },
   "outputs": [],
   "source": [
    "docs = []\n",
    "for uid in uid_list[:10]:\n",
    "    link = NLAPI+'?uid'+uid\n",
    "    docs.append(json.load(ul.urlopen(link)))"
   ]
  },
  {
   "cell_type": "code",
   "execution_count": 94,
   "metadata": {
    "collapsed": false
   },
   "outputs": [
    {
     "ename": "TypeError",
     "evalue": "list indices must be integers, not str",
     "output_type": "error",
     "traceback": [
      "\u001b[0;31m---------------------------------------------------------------------------\u001b[0m",
      "\u001b[0;31mTypeError\u001b[0m                                 Traceback (most recent call last)",
      "\u001b[0;32m<ipython-input-94-99fe1d151249>\u001b[0m in \u001b[0;36m<module>\u001b[0;34m()\u001b[0m\n\u001b[0;32m----> 1\u001b[0;31m \u001b[0mdf\u001b[0m \u001b[0;34m=\u001b[0m \u001b[0mpd\u001b[0m\u001b[0;34m.\u001b[0m\u001b[0mDataFrame\u001b[0m\u001b[0;34m(\u001b[0m\u001b[0mdocs\u001b[0m\u001b[0;34m[\u001b[0m\u001b[0;34m'Items'\u001b[0m\u001b[0;34m]\u001b[0m\u001b[0;34m)\u001b[0m\u001b[0;34m\u001b[0m\u001b[0m\n\u001b[0m",
      "\u001b[0;31mTypeError\u001b[0m: list indices must be integers, not str"
     ]
    }
   ],
   "source": [
    "df = pd.DataFrame(docs['Items'])"
   ]
  },
  {
   "cell_type": "code",
   "execution_count": 95,
   "metadata": {
    "collapsed": false
   },
   "outputs": [
    {
     "ename": "TypeError",
     "evalue": "list indices must be integers, not str",
     "output_type": "error",
     "traceback": [
      "\u001b[0;31m---------------------------------------------------------------------------\u001b[0m",
      "\u001b[0;31mTypeError\u001b[0m                                 Traceback (most recent call last)",
      "\u001b[0;32m<ipython-input-95-c55d2765f0f6>\u001b[0m in \u001b[0;36m<module>\u001b[0;34m()\u001b[0m\n\u001b[0;32m----> 1\u001b[0;31m \u001b[0mdocs\u001b[0m\u001b[0;34m[\u001b[0m\u001b[0;34m'Items'\u001b[0m\u001b[0;34m]\u001b[0m\u001b[0;34m\u001b[0m\u001b[0m\n\u001b[0m",
      "\u001b[0;31mTypeError\u001b[0m: list indices must be integers, not str"
     ]
    }
   ],
   "source": []
  },
  {
   "cell_type": "code",
   "execution_count": null,
   "metadata": {
    "collapsed": true
   },
   "outputs": [],
   "source": []
  }
 ],
 "metadata": {
  "anaconda-cloud": {},
  "kernelspec": {
   "display_name": "Python [conda root]",
   "language": "python",
   "name": "conda-root-py"
  },
  "language_info": {
   "codemirror_mode": {
    "name": "ipython",
    "version": 2
   },
   "file_extension": ".py",
   "mimetype": "text/x-python",
   "name": "python",
   "nbconvert_exporter": "python",
   "pygments_lexer": "ipython2",
   "version": "2.7.12"
  }
 },
 "nbformat": 4,
 "nbformat_minor": 1
}
