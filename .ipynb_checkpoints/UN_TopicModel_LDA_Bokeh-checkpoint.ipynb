{
 "cells": [
  {
   "cell_type": "markdown",
   "metadata": {},
   "source": [
    "### Check point"
   ]
  },
  {
   "cell_type": "code",
   "execution_count": 17,
   "metadata": {
    "collapsed": false
   },
   "outputs": [
    {
     "data": {
      "text/html": [
       "<div>\n",
       "<style>\n",
       "    .dataframe thead tr:only-child th {\n",
       "        text-align: right;\n",
       "    }\n",
       "\n",
       "    .dataframe thead th {\n",
       "        text-align: left;\n",
       "    }\n",
       "\n",
       "    .dataframe tbody tr th {\n",
       "        vertical-align: top;\n",
       "    }\n",
       "</style>\n",
       "<table border=\"1\" class=\"dataframe\">\n",
       "  <thead>\n",
       "    <tr style=\"text-align: right;\">\n",
       "      <th></th>\n",
       "      <th>ocr_eng</th>\n",
       "    </tr>\n",
       "  </thead>\n",
       "  <tbody>\n",
       "    <tr>\n",
       "      <th>0</th>\n",
       "      <td>activities for regional nurses the regional nu...</td>\n",
       "    </tr>\n",
       "    <tr>\n",
       "      <th>1</th>\n",
       "      <td>to hug lien key map legend chingshu existing p...</td>\n",
       "    </tr>\n",
       "    <tr>\n",
       "      <th>2</th>\n",
       "      <td>the office of ohio t laepeetor serene that dor...</td>\n",
       "    </tr>\n",
       "    <tr>\n",
       "      <th>3</th>\n",
       "      <td>b ground water development in the muslin and c...</td>\n",
       "    </tr>\n",
       "    <tr>\n",
       "      <th>4</th>\n",
       "      <td>ten page 10 sodium bromide phonoborbital ferri...</td>\n",
       "    </tr>\n",
       "  </tbody>\n",
       "</table>\n",
       "</div>"
      ],
      "text/plain": [
       "                                             ocr_eng\n",
       "0  activities for regional nurses the regional nu...\n",
       "1  to hug lien key map legend chingshu existing p...\n",
       "2  the office of ohio t laepeetor serene that dor...\n",
       "3  b ground water development in the muslin and c...\n",
       "4  ten page 10 sodium bromide phonoborbital ferri..."
      ]
     },
     "execution_count": 17,
     "metadata": {},
     "output_type": "execute_result"
    }
   ],
   "source": [
    "import re\n",
    "import numpy as np\n",
    "import pandas as pd\n",
    "from sklearn.feature_extraction.text import TfidfVectorizer, CountVectorizer\n",
    "from sklearn.decomposition import NMF, LatentDirichletAllocation\n",
    "import bokeh.plotting as bp\n",
    "from bokeh.plotting import save\n",
    "from bokeh.models import HoverTool\n",
    "UN_full_text = pd.read_csv('data/UN_full_text.csv')\n",
    "UN_full_text.head()"
   ]
  },
  {
   "cell_type": "code",
   "execution_count": 14,
   "metadata": {
    "collapsed": false
   },
   "outputs": [],
   "source": [
    "from string import digits\n",
    "remove_digits = str.maketrans('','',digits)\n",
    "\n",
    "def remove_number(text):\n",
    "    return text.translate(remove_digits)\n",
    "UN_full_text = UN_full_text.ocr_eng.map(remove_number,na_action='ignore')"
   ]
  },
  {
   "cell_type": "code",
   "execution_count": 23,
   "metadata": {
    "collapsed": true
   },
   "outputs": [],
   "source": [
    "documents = list(UN_full_text.ocr_eng)"
   ]
  },
  {
   "cell_type": "code",
   "execution_count": 25,
   "metadata": {
    "collapsed": false
   },
   "outputs": [
    {
     "name": "stderr",
     "output_type": "stream",
     "text": [
      "/Users/yhhsu/Anaconda/anaconda/envs/NLP/lib/python3.6/site-packages/sklearn/decomposition/online_lda.py:294: DeprecationWarning: n_topics has been renamed to n_components in version 0.19 and will be removed in 0.21\n",
      "  DeprecationWarning)\n"
     ]
    },
    {
     "name": "stdout",
     "output_type": "stream",
     "text": [
      "========Non-Negative Matrix Factorization===========\n",
      "Topic 0:\n",
      "carry intra supplies office regional personnel china program relief director\n",
      "Topic 1:\n",
      "river sediment flood stations basin data site areas later bed\n",
      "Topic 2:\n",
      "hospital nurses nursing medical beds health red 10 shanghai cases\n",
      "Topic 3:\n",
      "dr medical health supplies division meeting report action shanghai present\n",
      "Topic 4:\n",
      "000 50 tons 10 20 total 100 12 people years\n",
      "Topic 5:\n",
      "shop branch national central new meeting 50 total plan equipment\n",
      "Topic 6:\n",
      "grade officer regional 12 division chief 11 10 100 field\n",
      "Topic 7:\n",
      "tho th end tons government people distribution time island control\n",
      "Topic 8:\n",
      "mr meeting director china committee office intra chief staff plan\n",
      "Topic 9:\n",
      "hydraulic laboratory equipment work development problems planning taiwan available government\n",
      "========Latent Dirichlet Allocation=================\n",
      "Topic 0:\n",
      "stations 100 used taiwan tons island period years general new\n",
      "Topic 1:\n",
      "river sediment flood bed control data areas present later basin\n",
      "Topic 2:\n",
      "dr medical supplies health shanghai program china report intra present\n",
      "Topic 3:\n",
      "000 10 50 20 total 12 100 area 11 cases\n",
      "Topic 4:\n",
      "equipment laboratory hydraulic work development staff problems field available need\n",
      "Topic 5:\n",
      "hospital health medical nurses nursing red personnel training program supplies\n",
      "Topic 6:\n",
      "mr shop branch meeting new national central plan china intra\n",
      "Topic 7:\n",
      "carry intra office supplies director china work relief general personnel\n",
      "Topic 8:\n",
      "regional officer grade personnel division chief office 12 11 report\n",
      "Topic 9:\n",
      "tho people th end time ton taiwan control carry conditions\n"
     ]
    }
   ],
   "source": [
    "no_features = 100\n",
    "\n",
    "# NMF is able to use tf-idf\n",
    "tfidf_vectorizer = TfidfVectorizer(max_df=0.95, min_df=2, max_features=no_features, stop_words='english')\n",
    "tfidf = tfidf_vectorizer.fit_transform(documents)\n",
    "tfidf_feature_names = tfidf_vectorizer.get_feature_names()\n",
    "\n",
    "tf_vectorizer = CountVectorizer(max_df=0.95, min_df=2, max_features=no_features, stop_words='english')\n",
    "tf = tf_vectorizer.fit_transform(documents)\n",
    "tf_feature_names = tf_vectorizer.get_feature_names()\n",
    "\n",
    "no_topics = 10\n",
    "# Run NMF\n",
    "NMF = NMF(n_components=no_topics, random_state=1, alpha=.1, l1_ratio=.5, init='nndsvd').fit(tfidf)\n",
    "# Run LDA\n",
    "LDA = LatentDirichletAllocation(n_topics=no_topics, max_iter=5, learning_method='online', learning_offset=50.,random_state=0).fit(tf)\n",
    "\n",
    "def display_topics(model, feature_names, no_top_words):\n",
    "    for topic_idx, topic in enumerate(model.components_):\n",
    "        print (\"Topic %d:\" % (topic_idx))\n",
    "        print (\" \".join([feature_names[i]\\\n",
    "                        for i in topic.argsort()[:-no_top_words - 1:-1]]))\n",
    "\n",
    "no_top_words = 10\n",
    "print (\"========Non-Negative Matrix Factorization===========\")\n",
    "display_topics(NMF, tfidf_feature_names, no_top_words)\n",
    "print (\"========Latent Dirichlet Allocation=================\")\n",
    "display_topics(LDA, tf_feature_names, no_top_words)"
   ]
  },
  {
   "cell_type": "code",
   "execution_count": 26,
   "metadata": {
    "collapsed": false
   },
   "outputs": [
    {
     "data": {
      "text/plain": [
       "1284"
      ]
     },
     "execution_count": 26,
     "metadata": {},
     "output_type": "execute_result"
    }
   ],
   "source": [
    "len(documents)"
   ]
  },
  {
   "cell_type": "code",
   "execution_count": 27,
   "metadata": {
    "collapsed": false
   },
   "outputs": [],
   "source": [
    "import matplotlib.pyplot as plt\n",
    "%matplotlib inline"
   ]
  },
  {
   "cell_type": "code",
   "execution_count": 28,
   "metadata": {
    "collapsed": true
   },
   "outputs": [
    {
     "name": "stderr",
     "output_type": "stream",
     "text": [
      "INFO:lda:n_documents: 1284\n",
      "INFO:lda:vocab_size: 5300\n",
      "INFO:lda:n_words: 175764\n",
      "INFO:lda:n_topics: 10\n",
      "INFO:lda:n_iter: 500\n",
      "WARNING:lda:all zero row in document-term matrix found\n",
      "INFO:lda:<0> log likelihood: -1947536\n",
      "INFO:lda:<10> log likelihood: -1482036\n",
      "INFO:lda:<20> log likelihood: -1430578\n",
      "INFO:lda:<30> log likelihood: -1411913\n",
      "INFO:lda:<40> log likelihood: -1403271\n",
      "INFO:lda:<50> log likelihood: -1397524\n",
      "INFO:lda:<60> log likelihood: -1394026\n",
      "INFO:lda:<70> log likelihood: -1391425\n",
      "INFO:lda:<80> log likelihood: -1389359\n",
      "INFO:lda:<90> log likelihood: -1387450\n",
      "INFO:lda:<100> log likelihood: -1386194\n",
      "INFO:lda:<110> log likelihood: -1385621\n",
      "INFO:lda:<120> log likelihood: -1384877\n",
      "INFO:lda:<130> log likelihood: -1383985\n",
      "INFO:lda:<140> log likelihood: -1383394\n",
      "INFO:lda:<150> log likelihood: -1383771\n",
      "INFO:lda:<160> log likelihood: -1383219\n",
      "INFO:lda:<170> log likelihood: -1383028\n",
      "INFO:lda:<180> log likelihood: -1382105\n",
      "INFO:lda:<190> log likelihood: -1381235\n",
      "INFO:lda:<200> log likelihood: -1382658\n",
      "INFO:lda:<210> log likelihood: -1381807\n",
      "INFO:lda:<220> log likelihood: -1382255\n",
      "INFO:lda:<230> log likelihood: -1381851\n",
      "INFO:lda:<240> log likelihood: -1381873\n",
      "INFO:lda:<250> log likelihood: -1381519\n",
      "INFO:lda:<260> log likelihood: -1381918\n",
      "INFO:lda:<270> log likelihood: -1381841\n",
      "INFO:lda:<280> log likelihood: -1381850\n",
      "INFO:lda:<290> log likelihood: -1382212\n",
      "INFO:lda:<300> log likelihood: -1381019\n",
      "INFO:lda:<310> log likelihood: -1382044\n",
      "INFO:lda:<320> log likelihood: -1382070\n",
      "INFO:lda:<330> log likelihood: -1382057\n",
      "INFO:lda:<340> log likelihood: -1381839\n",
      "INFO:lda:<350> log likelihood: -1382335\n",
      "INFO:lda:<360> log likelihood: -1381297\n",
      "INFO:lda:<370> log likelihood: -1382464\n",
      "INFO:lda:<380> log likelihood: -1381601\n",
      "INFO:lda:<390> log likelihood: -1381687\n",
      "INFO:lda:<400> log likelihood: -1382051\n",
      "INFO:lda:<410> log likelihood: -1381837\n",
      "INFO:lda:<420> log likelihood: -1382660\n",
      "INFO:lda:<430> log likelihood: -1382681\n",
      "INFO:lda:<440> log likelihood: -1382038\n",
      "INFO:lda:<450> log likelihood: -1382504\n",
      "INFO:lda:<460> log likelihood: -1382675\n",
      "INFO:lda:<470> log likelihood: -1382346\n",
      "INFO:lda:<480> log likelihood: -1381795\n",
      "INFO:lda:<490> log likelihood: -1382819\n",
      "INFO:lda:<499> log likelihood: -1381887\n"
     ]
    },
    {
     "name": "stdout",
     "output_type": "stream",
     "text": [
      "[t-SNE] Computing 91 nearest neighbors...\n",
      "[t-SNE] Indexed 735 samples in 0.000s...\n",
      "[t-SNE] Computed neighbors for 735 samples in 0.018s...\n",
      "[t-SNE] Computed conditional probabilities for sample 735 / 735\n",
      "[t-SNE] Mean sigma: 0.112116\n",
      "[t-SNE] KL divergence after 250 iterations with early exaggeration: 47.900124\n",
      "[t-SNE] Error after 1000 iterations: 0.271503\n"
     ]
    },
    {
     "data": {
      "text/plain": [
       "<matplotlib.collections.PathCollection at 0x11a668080>"
      ]
     },
     "execution_count": 28,
     "metadata": {},
     "output_type": "execute_result"
    },
    {
     "data": {
      "image/png": "[encoded data removed]",
      "text/plain": [
       "<matplotlib.figure.Figure at 0x11a003630>"
      ]
     },
     "metadata": {},
     "output_type": "display_data"
    }
   ],
   "source": [
    "import lda\n",
    "import numpy as np\n",
    "from sklearn.manifold import TSNE\n",
    "n_topics = 10 \n",
    "n_iter = 500\n",
    "n_top_words = 5\n",
    "threshold = 0.5\n",
    "cvectorizer = CountVectorizer(min_df=5, stop_words='english')\n",
    "cvz = cvectorizer.fit_transform(documents)\n",
    "lda_model = lda.LDA(n_topics=n_topics, n_iter=n_iter)\n",
    "X_topics = lda_model.fit_transform(cvz)\n",
    "\n",
    "_idx = np.amax(X_topics, axis=1) > threshold  # idx of news that > threshold\n",
    "_topics = X_topics[_idx]\n",
    "num_example = len(_topics)\n",
    "\n",
    "tsne_model = TSNE(n_components=2, verbose=1, random_state=0, angle=.99, init='pca')\n",
    "tsne_lda = tsne_model.fit_transform(_topics[:num_example])\n",
    "\n",
    "_lda_keys = []\n",
    "for i in range(_topics.shape[0]):\n",
    "    _lda_keys.append(_topics[i].argmax())\n",
    "\n",
    "topic_summaries = []\n",
    "topic_word = lda_model.topic_word_  # get the topic words\n",
    "vocab = cvectorizer.get_feature_names()\n",
    "for i, topic_dist in enumerate(topic_word):\n",
    "    topic_words = np.array(vocab)[np.argsort(topic_dist)][:-(n_top_words+1):-1]\n",
    "    topic_summaries.append(' '.join(topic_words))\n",
    "\n",
    "colormap = np.array([\n",
    "    \"#1f77b4\", \"#aec7e8\", \"#ff7f0e\", \"#ffbb78\", \"#2ca02c\",\n",
    "    \"#98df8a\", \"#d62728\", \"#ff9896\", \"#9467bd\", \"#c5b0d5\",\n",
    "])\n",
    "\n",
    "plt.scatter(x=tsne_lda[:, 0], y=tsne_lda[:, 1],color=colormap[_lda_keys][:num_example])"
   ]
  },
  {
   "cell_type": "code",
   "execution_count": 29,
   "metadata": {
    "collapsed": false,
    "scrolled": true
   },
   "outputs": [
    {
     "name": "stderr",
     "output_type": "stream",
     "text": [
      "/Users/yhhsu/Anaconda/anaconda/envs/NLP/lib/python3.6/site-packages/bokeh/util/deprecation.py:34: BokehDeprecationWarning: \n",
      "Supplying a user-defined data source AND iterable values to glyph methods is deprecated.\n",
      "\n",
      "See https://github.com/bokeh/bokeh/issues/2056 for more information.\n",
      "\n",
      "  warn(message)\n",
      "/Users/yhhsu/Anaconda/anaconda/envs/NLP/lib/python3.6/site-packages/bokeh/util/deprecation.py:34: BokehDeprecationWarning: \n",
      "Supplying a user-defined data source AND iterable values to glyph methods is deprecated.\n",
      "\n",
      "See https://github.com/bokeh/bokeh/issues/2056 for more information.\n",
      "\n",
      "  warn(message)\n",
      "/Users/yhhsu/Anaconda/anaconda/envs/NLP/lib/python3.6/site-packages/bokeh/util/deprecation.py:34: BokehDeprecationWarning: \n",
      "Supplying a user-defined data source AND iterable values to glyph methods is deprecated.\n",
      "\n",
      "See https://github.com/bokeh/bokeh/issues/2056 for more information.\n",
      "\n",
      "  warn(message)\n",
      "/Users/yhhsu/Anaconda/anaconda/envs/NLP/lib/python3.6/site-packages/bokeh/util/deprecation.py:34: BokehDeprecationWarning: \n",
      "Supplying a user-defined data source AND iterable values to glyph methods is deprecated.\n",
      "\n",
      "See https://github.com/bokeh/bokeh/issues/2056 for more information.\n",
      "\n",
      "  warn(message)\n",
      "/Users/yhhsu/Anaconda/anaconda/envs/NLP/lib/python3.6/site-packages/bokeh/io.py:527: UserWarning: save() called but no resources were supplied and output_file(...) was never called, defaulting to resources.CDN\n",
      "  warnings.warn(\"save() called but no resources were supplied and output_file(...) was never called, defaulting to resources.CDN\")\n",
      "/Users/yhhsu/Anaconda/anaconda/envs/NLP/lib/python3.6/site-packages/bokeh/io.py:537: UserWarning: save() called but no title was supplied and output_file(...) was never called, using default title 'Bokeh Plot'\n",
      "  warnings.warn(\"save() called but no title was supplied and output_file(...) was never called, using default title 'Bokeh Plot'\")\n"
     ]
    },
    {
     "data": {
      "text/plain": [
       "'/Users/yhhsu/Desktop/DataScience/NationalTreasure/TNT_UN_tsne_lda_viz_1284_10_0.5_500_735_5.html'"
      ]
     },
     "execution_count": 29,
     "metadata": {},
     "output_type": "execute_result"
    }
   ],
   "source": [
    "title = \"[Taiwan National Treasure] t-SNE visualization of LDA model trained on {} documents, \".format(\n",
    "    X_topics.shape[0], n_topics, threshold, n_iter, num_example, n_top_words)\n",
    "\n",
    "plot_lda = bp.figure(plot_width=1400, plot_height=1100,\n",
    "                   title=title,\n",
    "                   tools=\"pan,wheel_zoom,box_zoom,reset,hover,previewsave\",\n",
    "                   x_axis_type=None, y_axis_type=None, min_border=1)\n",
    "\n",
    "plot_lda.scatter(x=tsne_lda[:, 0], y=tsne_lda[:, 1],\n",
    "               color=colormap[_lda_keys][:num_example],\n",
    "               source=bp.ColumnDataSource({\n",
    "                 \"content\": documents[:num_example],\n",
    "                 \"topic_key\": _lda_keys[:num_example]\n",
    "                 }))\n",
    "\n",
    "topic_coord = np.empty((X_topics.shape[1], 2)) * np.nan\n",
    "for topic_num in _lda_keys:\n",
    "    if not np.isnan(topic_coord).any():\n",
    "          break\n",
    "    topic_coord[topic_num] = tsne_lda[_lda_keys[topic_num]]\n",
    "\n",
    "for i in range(X_topics.shape[1]):\n",
    "    plot_lda.text(topic_coord[i, 0], topic_coord[i, 1], [topic_summaries[i]])\n",
    "\n",
    "hover = plot_lda.select(dict(type=HoverTool))\n",
    "hover.tooltips = {\"content\": \"@content - topic: @topic_key\"}\n",
    "\n",
    "save(plot_lda, 'TNT_UN_tsne_lda_viz_{}_{}_{}_{}_{}_{}.html'.format(\n",
    "X_topics.shape[0], n_topics, threshold, n_iter, num_example, n_top_words))"
   ]
  }
 ],
 "metadata": {
  "anaconda-cloud": {},
  "kernelspec": {
   "display_name": "Python [conda env:NLP]",
   "language": "python",
   "name": "conda-env-NLP-py"
  },
  "language_info": {
   "codemirror_mode": {
    "name": "ipython",
    "version": 3
   },
   "file_extension": ".py",
   "mimetype": "text/x-python",
   "name": "python",
   "nbconvert_exporter": "python",
   "pygments_lexer": "ipython3",
   "version": "3.6.2"
  }
 },
 "nbformat": 4,
 "nbformat_minor": 1
}
