{
 "cells": [
  {
   "cell_type": "code",
   "execution_count": 1,
   "metadata": {
    "collapsed": false
   },
   "outputs": [],
   "source": [
    "from TNT_Api import TNT_Api\n",
    "ECA = TNT_Api(tag='聯合國',nlimit=100000)"
   ]
  },
  {
   "cell_type": "code",
   "execution_count": 2,
   "metadata": {
    "collapsed": false
   },
   "outputs": [
    {
     "name": "stdout",
     "output_type": "stream",
     "text": [
      "1377 documents found in tag 聯合國\n",
      "downloading, 100000 to go\n",
      "0 data downloaded\n",
      "100 data downloaded\n",
      "200 data downloaded\n",
      "300 data downloaded\n",
      "400 data downloaded\n",
      "500 data downloaded\n",
      "600 data downloaded\n",
      "700 data downloaded\n",
      "800 data downloaded\n",
      "900 data downloaded\n",
      "1000 data downloaded\n",
      "1100 data downloaded\n",
      "1200 data downloaded\n",
      "1300 data downloaded\n"
     ]
    }
   ],
   "source": [
    "ECA.get_data()"
   ]
  },
  {
   "cell_type": "code",
   "execution_count": 3,
   "metadata": {
    "collapsed": false
   },
   "outputs": [],
   "source": [
    "import pickle"
   ]
  },
  {
   "cell_type": "code",
   "execution_count": 12,
   "metadata": {
    "collapsed": false
   },
   "outputs": [],
   "source": [
    "with open(r'UN_data.pickle','wb') as output:\n",
    "    pickle.dump(ECA,output)\n",
    "    "
   ]
  },
  {
   "cell_type": "code",
   "execution_count": 4,
   "metadata": {
    "collapsed": false
   },
   "outputs": [],
   "source": [
    "with open(r'UN_data.pickle','rb') as input:\n",
    "    UN_data = pickle.load(input)"
   ]
  },
  {
   "cell_type": "code",
   "execution_count": 5,
   "metadata": {
    "collapsed": false
   },
   "outputs": [
    {
     "data": {
      "text/plain": [
       "00a12bd0-868e-11e7-b996-793f472f3939    [ACTIVITIS POR RGIONAL NURSES\\nThe Regional Nu...\n",
       "01399c50-8830-11e7-a26a-bfde76eb458e    [To Hug Lien\\nKEY MAP\\nLEGEND\\nchingshu\\nExist...\n",
       "01481d60-8692-11e7-82e0-793d0b92eb8a    [The office of Ohie t laepeetor serene that Do...\n",
       "01832320-9d52-11e7-8db9-89b3fb5d3002    [被日寇佔據之時,生命與財產\\n邊疆\\n大\\n島\\n的\\n台灣\\n一的損失很大,據穩健的估計...\n",
       "01910900-9d56-11e7-99cd-693026b34cc1    [(b) Ground-water development in the Yunlin an...\n",
       "01a3b010-8680-11e7-959a-af4859d82f28    [Iten\\npage 10\\nSodium Bromide\\nPhonoborbital\\...\n",
       "0227a5d0-8830-11e7-a26a-bfde76eb458e    [to pumps. The present syatem of open-world bi...\n",
       "02301190-8680-11e7-a29c-377faae4ace3    [Ageney Operating. Insti tution CNRRA\\nTree pa...\n",
       "0230e4d0-8694-11e7-83f3-cfc886473783    [1-\\nMay 22, 1946\\nMEKORA ND UD\\nTo:\\nFrom: Ea...\n",
       "0243d190-8689-11e7-a29c-377faae4ace3    [16 Angust 196.\\nSUBJEORs Wookly Operations Ge...\n",
       "024c8850-8682-11e7-959a-af4859d82f28    [1\\nAPPENDIX D\\nMEDIGAT, SCHOOrs, HOSPITALS AN...\n",
       "02d2d4a0-9d52-11e7-8db9-89b3fb5d3002    [被日寇佔據之時,生命與財產\\n邊疆大島的台灣\\n一的損失很大瘗的估計,\\n著\\n,財產的損...\n",
       "02d59910-8830-11e7-a26a-bfde76eb458e    [30. The vestern 811trvta2 pains here had floo...\n",
       "02f9c0d0-8699-11e7-83f3-cfc886473783    [UNRRA SHANGHAI REGIONAL OFFICE\\n6 February 19...\n",
       "0382c6e0-9d56-11e7-99cd-693026b34cc1    [D.\\nEquipment\\n14. The Plan of operation also...\n",
       "0461afe0-8686-11e7-a29c-377faae4ace3    [UNITED NATIONS\\nRELIEF AND REHABILITATION ADM...\n",
       "04c85a90-867e-11e7-a29c-377faae4ace3    [4.\\nonly fuat beon prosented in finnl forn fo...\n",
       "0534bec0-8830-11e7-af82-4b8455da77c9    [rrace deposit along the right abutment appear...\n",
       "05505d10-8830-11e7-a26a-bfde76eb458e    [laborst\\nconventently and praetteably. In the...\n",
       "0550b8e0-8688-11e7-a29c-377faae4ace3    [Page 2\\nDr. Sa unders mentioned thacfx the fa...\n",
       "05afac50-8689-11e7-a29c-377faae4ace3                                                   []\n",
       "05ba6210-8686-11e7-a29c-377faae4ace3    [Shanghats Regional Ottioe\\nMonthly lloport\\nJ...\n",
       "05f8ccc0-9d52-11e7-8db9-89b3fb5d3002    [牌、中國式的衣食習慣,被日\\n一呼這樣種種方法在企圖使台\\n一人抛棄與中國過去的連繫\\n台...\n",
       "06448110-8830-11e7-a26a-bfde76eb458e    [downstream a short distance. Three additional...\n",
       "067220c0-8830-11e7-af82-4b8455da77c9    [would be kept at Pefkang at all flood flows a...\n",
       "06c418a0-8680-11e7-a29c-377faae4ace3    [Agency Operating Inetitution CNRRA\\n501 200\\n...\n",
       "0735db50-8682-11e7-959a-af4859d82f28                         [凹4a\\nC4\\n뉘\\n, 凹, 4a, C4, 뉘]\n",
       "0741f2b0-8816-11e7-8dac-3977be5921bd    [Ohinese National\\nRelief and Rehabi11tation A...\n",
       "074414a0-9d56-11e7-99cd-693026b34cc1    [i. Mr. K. T. Chu, Director, Department of Wat...\n",
       "074b1a70-8816-11e7-8324-311680d37946    [Inventory of eupplies received from ONRRA thr...\n",
       "                                                              ...                        \n",
       "f971a110-8687-11e7-a2d8-93abb9b8aa7c    [t Director-General LeGuardia has drewa up a o...\n",
       "f97feb40-882f-11e7-ba12-49326dc41257    [changing river cross-sections. Low-flow recor...\n",
       "f98f5490-882f-11e7-a26a-bfde76eb458e    [fields in this area questionable. Irrigation ...\n",
       "f99ecb90-8687-11e7-a29c-377faae4ace3    [Dr. King made a pecial request for interni st...\n",
       "f9d83d00-8685-11e7-a29c-377faae4ace3    [otes on a Visit to KOFA. There were present: ...\n",
       "fa77f810-8688-11e7-a29c-377faae4ace3    [@줴\\nsuch projeo&a, tarnishing. a tar ss possi...\n",
       "fb153890-867f-11e7-959a-af4859d82f28    [Shantung\\nrs and whon thoy loft, many or the ...\n",
       "fb3b07b0-868d-11e7-b996-793f472f3939    [反12\\nFebruary 22nd, 1946.\\n2.\\nっ\\nTo\\nFRON\\nS...\n",
       "fb4b2790-867d-11e7-959a-af4859d82f28    [TAIWAN REGIONAL OFFICE\\nSPECIAL REPORT ON GOV...\n",
       "fb58f100-882f-11e7-ba12-49326dc41257    [in Tsiven in th\\ncouplesndequste bsste\\nsite ...\n",
       "fb779c90-882f-11e7-a26a-bfde76eb458e    [ENGINEERING GEOLOGY CHARTSET\\nTo Accompany En...\n",
       "fb9a8010-867d-11e7-a29c-377faae4ace3    [3.\\nThe cholert opldonie continues to nnoulde...\n",
       "fbc9db40-882f-11e7-af82-4b8455da77c9    [300,000 cubie metres (393,000 cubic yards) of...\n",
       "fc1ba2a0-9d55-11e7-99cd-693026b34cc1    [INTRODUCTION\\nAll streams run to the sea,\\nbu...\n",
       "fc37df50-882f-11e7-a26a-bfde76eb458e    [COMPARATIVE STATISTICS-TAIWAN PRINCIPAL RIVER...\n",
       "fca1e450-8685-11e7-a29c-377faae4ace3    [Shanghai Regional Offi0e\\nMonthly Report No. ...\n",
       "fcbd6a50-867f-11e7-959a-af4859d82f28    [page 9\\nHEGE.IAY EQU퍼 lih.:T\\nLin11\\nChefoo P...\n",
       "fd822ad0-8688-11e7-a29c-377faae4ace3    [Page 2\\nhow this problem was taken dsre of wd...\n",
       "fda5bb90-868c-11e7-82e0-793d0b92eb8a    [Page 3.\\nI should l1le to goo a College ot Mu...\n",
       "fda857d0-8685-11e7-a29c-377faae4ace3                       [보\"㎡\\n貸\\n0-\\n, 보, \", ㎡, 貸, 0-]\n",
       "fdb55790-882f-11e7-a26a-bfde76eb458e    [CONTENTS (Continued)\\n11· FLOOD FREQUENCY CUR...\n",
       "fe018870-8692-11e7-82e0-793d0b92eb8a    [magsi mprocess . Transfer of one Progran pers...\n",
       "fe0d9660-8692-11e7-83f3-cfc886473783    [MEMORANDU\\n6 NOV 1946\\nTo\\n: General Glen E. ...\n",
       "fe318a50-9d55-11e7-99cd-693026b34cc1    [6. Eacn expert has, of course, been primarily...\n",
       "fe9de2d0-882f-11e7-a26a-bfde76eb458e    [per second corresponds to a run-off of about ...\n",
       "feec3690-8692-11e7-83f3-cfc886473783    [12 Deoembez, 1946.\\nKMORANDUM\\nMajor-General\\...\n",
       "ff00dc90-867d-11e7-a29c-377faae4ace3    [Pcod enough and' sufficient water was ave ila...\n",
       "ff169c90-867f-11e7-959a-af4859d82f28    [ing progran personhel for teaching purposes a...\n",
       "ff41eb00-882f-11e7-af82-4b8455da77c9    [50. No aress seem to be justified as retardin...\n",
       "fff00550-882f-11e7-a26a-bfde76eb458e    [ーフ\\nTABLE OF RESERVOURS\\nMark Name of Reserva...\n",
       "Name: ocr, Length: 1377, dtype: object"
      ]
     },
     "execution_count": 5,
     "metadata": {},
     "output_type": "execute_result"
    }
   ],
   "source": [
    "UN_data.ocr"
   ]
  },
  {
   "cell_type": "code",
   "execution_count": 7,
   "metadata": {
    "collapsed": false
   },
   "outputs": [],
   "source": [
    "test = UN_data.ocr[3][0]"
   ]
  },
  {
   "cell_type": "code",
   "execution_count": 32,
   "metadata": {
    "collapsed": false
   },
   "outputs": [
    {
     "data": {
      "text/plain": [
       "'被日寇佔據之時'"
      ]
     },
     "execution_count": 32,
     "metadata": {},
     "output_type": "execute_result"
    }
   ],
   "source": [
    "import spelling_correction as sc\n",
    "sc.correction(sc.words(test)[0])"
   ]
  },
  {
   "cell_type": "code",
   "execution_count": 11,
   "metadata": {
    "collapsed": false
   },
   "outputs": [
    {
     "name": "stdout",
     "output_type": "stream",
     "text": [
      "被日寇佔據之時,生命與財產\n",
      "邊疆\n",
      "大\n",
      "島\n",
      "的\n",
      "台灣\n",
      "一的損失很大,據穩健的估計人\n",
      "財產的損失則沒有估計\n",
      "美海軍上尉庫爾(GEORGE H. KERR)著\n",
      "(譯自『遠東觀察』雙週刊四月十一日號)\n",
      "日本的平民冒險求富之徒\n",
      ",跟着寇軍之後到台灣,以一\n",
      "但是中國方面之進步態度, mbl\n",
      "促進着列强的侵略活動。中1的是日間為農民,夜間襲擊日一切的手叚求得財富,台灣華人\n",
      "國在抵抗法軍侵奪安南之時、寇供應線和陣營,决心要驅逐一對於一切的外人都懷疑,也性\n",
      "藏在山間的游擊隊,常鼓動農\n",
      "基隆港,至一八八五年中法條 日寇於一八九五年十月十一民參加對日寇 襲擊,而這些\n",
      "111日,宣佈戰事結束,台灣被 襲擊,常是遭受到日寇血腥的\n",
      "好爭論,是不習慣於紀律的\n",
      "法軍耋台灣之西岸,利佔據!侵略者的游擊隊\n",
      "約成立,法軍始撤退\n",
      "佔,但這並不是說日寇的艱難!報復。日寇企圖遣除鄉村閒的\n",
      "法國的侵攻,更加促使淸 ,1告終了:日寇晙迫着還須舉1反抗者,每因個人的行爲,而\n",
      "廷改善台灣,於i八八七年升一行七年的戰事,方能說得武裝-將全村懲罰。例如在台中省的\n",
      "其地位爲省,在一位開明的提一的抵抗ピ被壓止。那些年頭日1東宮鄉的日寇駐軍,於1八九\n",
      "督之下,開始建築鐵路,電報-寇的殘暴與壓迫的情狀,再現一六年奉令殺光在該鄉村周圍四\n",
      "和開發礦山,中國的第1盞-於近年日寇在南京和其\n",
      "公共電燈光在台灣島上照耀着一城市的暴行\n",
      "0但是任一八九i年,隨那個!\n",
      "提督的因病告退之後,這種新- 台灣華人的抵抗最後被壓ㄧ在1仇查\n",
      "他中國一哩的生命,寇軍執行了他們的\n",
      "命令,使鄰近的鄉村震驚。\n",
      "的前進的政策也放棄了。三年一倒, 去逐漸從武力的暴動,一佈不過四個月的大赦,汉在該\n",
      "後日寇侵攻中國本部,結果之一轉變到由知識份千領導的意識一區屠殺千數百鄉民 和毀滅許\n",
      "1便是割讓台灣,台灣華人並\n",
      "抵抗\n",
      "當有騷動爆發,或企謀一汽鄉村。日寇這種野蠻殘暴\n",
      "沒有被徵求意見,在轉換主權-被破N時 日寇總是將領袖處1自不易爲台人忘記,而老的一\n",
      "之時,台灣地人並沒有代表,一决r .而將『事件』公佈, 一代,今天還記得很淸楚,兒童\n",
      "但富情形公佈時,島上人民發一 有蒔是展延釗兩年以後。據1們長大起來,聽到許冬許金日\n",
      "生極大的騷動。台灣富局於二記錄表徵,每兩三年必發生--寇侵略的故事,和他們企圖擊\n",
      "白馬\n",
      "3\n",
      "年石月廿一11日,宣佈該一次嚴重的社會騷動,而自一九一破台人抵抗精神的殘暴\n",
      "八九\n",
      "日寇於殘暴的軍事壓制之\n",
      "後,繼以之有組織的社會的和\n",
      "經濟的壓制。本地十原有着五\n",
      "今天居留在台灣的日本平1相保護的制度存化,日寇利用\n",
      "島爲『共和國』,菲準備抵抗一三七年中日之戰爆雙以後,其\n",
      "一速度更趨增甚\n",
      "月廿九1 *台人仇日-.識深固\n",
      "//11\n",
      "隨時將到臨之日冦.\n",
      "日冦運兵船隊於\n",
      "日結集於基隆港外,翌日午夜\n",
      "!\n",
      "寇兵!\n",
      "開始七個月的戰事最終擊敗 年的仇敵當日寇的壓迫力呈一十家及每百家一組,這些組的\n",
      "武器甚劣而組織ㄨ差之台灣「 一現被毀滅之時,大有可能將爆1家長或代表,要對組中的人的\n",
      "共和國』軍的坚决抵抗這個ㄧ發着羣眾的暴動,植根於日寇|行爲負責,這種制度便替警察\n",
      "軍隊有些是中國正規軍許多-之殘暴的台灣華人的敵愾,並一管治奠下很有效的基礎\n",
      "是僱傭的兵,然而抵抗最有力!沒有跟着年代而減弱,在當初\n",
      "(二續未完)\n",
      "\n",
      "ko\n"
     ]
    }
   ],
   "source": [
    "from langdetect import detect, DetectorFactory\n",
    "DetectorFactory.seed =0 \n",
    "print (test)\n",
    "print (detect(test))"
   ]
  },
  {
   "cell_type": "code",
   "execution_count": 14,
   "metadata": {
    "collapsed": false
   },
   "outputs": [
    {
     "data": {
      "text/plain": [
       "'ko'"
      ]
     },
     "execution_count": 14,
     "metadata": {},
     "output_type": "execute_result"
    }
   ],
   "source": [
    "detect('開始七個月的戰事最終擊敗')"
   ]
  },
  {
   "cell_type": "code",
   "execution_count": 23,
   "metadata": {
    "collapsed": false
   },
   "outputs": [
    {
     "data": {
      "text/plain": [
       "[zh-tw:0.857141346175469, ko:0.14285837595825177]"
      ]
     },
     "execution_count": 23,
     "metadata": {},
     "output_type": "execute_result"
    }
   ],
   "source": [
    "from langdetect import detect_langs\n",
    "d = detect_langs('因前市長李孟賢逝世，舊金山代理市長麥法恩（Mark Farrell）接獲委任後，其市議員議席出缺，今誕生接任人。麥法恩30日公布，委任縣書記（County Clerk）及前地區檢察律師史蒂芬妮（Catherine Stefani），接任第二區市議員，並即日出席首個市議會大會。史蒂芬妮曾任麥法恩的立法助理，除了在市政府內具工作經驗，也是全國性槍械管制運動組織「美國媽媽要槍管」（Moms Demand Action for Gun Sense in America）的領頭人之一。麥法恩解釋任命決定：「她是個安全和負責任槍管法的倡導者，我有信心她會改善本地家庭的居住環境。」史蒂芬妮育有兩名小孩，在該區的牛谷區域（Cow Hollow）居住十多年。這次她擊敗一眾潛在對手，包括規劃委員方達雷（Rodney  Fon）。（唐芷瑩／舊金山報導）')\n",
    "d"
   ]
  },
  {
   "cell_type": "code",
   "execution_count": 24,
   "metadata": {
    "collapsed": false
   },
   "outputs": [
    {
     "data": {
      "text/plain": [
       "[ja:0.9999997517436651]"
      ]
     },
     "execution_count": 24,
     "metadata": {},
     "output_type": "execute_result"
    }
   ],
   "source": [
    "from langdetect import detect_langs\n",
    "d = detect_langs('札幌では「雪まつり」の準備が始まりました。　札幌は３１日未明にマイナス１０．３度を記録し、２日連続で最低気温がマイナス１０度を下回りました。８日連続の真冬日となる見通しの中、大通り公園では「雪まつり」の準備が進んでいます。　日本とスウェーデンの外交関係樹立１５０周年を記念してつくられるストックホルム大聖堂などの大雪像も完成間近です。　また、３１日からは職場の仲間や学生などのグループによる「市民雪像」の製作が始まりました。　「寒い、そのかわり雪が細やかでいい」（雪像をつくる市民）　「藤井四段、こちらがひふみん。たくさんの人に来てほしい」（雪像をつくる市民）')\n",
    "d"
   ]
  },
  {
   "cell_type": "code",
   "execution_count": 28,
   "metadata": {
    "collapsed": false
   },
   "outputs": [
    {
     "name": "stdout",
     "output_type": "stream",
     "text": [
      "[en:0.9999983715882343]\n",
      "[en:0.9999960492312916]\n",
      "[en:0.999997292477343]\n",
      "[ko:0.5714267430563879, zh-tw:0.42857234419370227]\n",
      "[en:0.9999985257932802]\n",
      "[en:0.9999944554216366]\n",
      "[en:0.9999954158215713]\n",
      "[en:0.9999979196092843]\n",
      "[en:0.9999949154501996]\n",
      "[en:0.9999963671765106]\n",
      "[en:0.9999957481395003]\n",
      "[ko:0.7142835910604793, zh-tw:0.28571627897027196]\n",
      "[en:0.9999969533279685]\n",
      "[en:0.9999946030907476]\n",
      "[en:0.9999957868065297]\n",
      "[en:0.9999978824431419]\n",
      "[en:0.9999968289243054]\n",
      "[en:0.9999966440706592]\n",
      "[en:0.9999981543282326]\n",
      "[en:0.9999969612852875]\n",
      "[en:0.9999971560846352]\n",
      "[ko:0.9999990345069438]\n",
      "[en:0.9999960766918701]\n",
      "[en:0.9999983791951865]\n",
      "[en:0.9999946317251527]\n",
      "[ca:0.9999963623772772]\n",
      "[en:0.9999952075501694]\n",
      "[en:0.9999951642091869]\n",
      "[en:0.9999969132411213]\n",
      "[en:0.99999521054708]\n",
      "[en:0.9999960370012155]\n",
      "[en:0.857139725315919, ro:0.14285750413192647]\n",
      "[en:0.9999978998569118]\n",
      "[en:0.9999943761727075]\n",
      "[en:0.9999967163982104]\n",
      "[en:0.9999953653693023]\n",
      "[en:0.9999935247395655]\n",
      "[en:0.9999951793483963]\n",
      "[en:0.9999971198042108]\n",
      "[en:0.9999990436880342]\n",
      "[en:0.999997130572027]\n",
      "[en:0.999997545216583]\n",
      "[en:0.9999980826499122]\n",
      "[en:0.9999982926344602]\n",
      "[en:0.9999977823090984]\n",
      "[en:0.9999971495872233]\n",
      "[en:0.9999951148246276]\n",
      "[en:0.9999959723261109]\n",
      "[en:0.9999963035150592]\n",
      "[en:0.9999952130279861]\n",
      "[en:0.9999981906676346]\n",
      "[en:0.999998691500288]\n",
      "[en:0.9999953243555826]\n",
      "[en:0.9999965673824256]\n",
      "[en:0.9999964453159358]\n",
      "[en:0.9999985403693973]\n",
      "[en:0.9999962761716966]\n",
      "[en:0.9999964675832252]\n",
      "[en:0.9999956133960599]\n",
      "[en:0.999996820559171]\n",
      "[en:0.9999958503125941]\n",
      "[en:0.9999946229434915]\n",
      "[en:0.9999966002791767]\n",
      "[en:0.9999990165424125]\n",
      "[en:0.9999959169989707]\n",
      "[en:0.9999959499760052]\n",
      "[en:0.8571412692010365, it:0.1428586012285826]\n",
      "[en:0.9999978149927724]\n",
      "[en:0.9999975357690233]\n",
      "[en:0.9999939507780868]\n",
      "[en:0.9999968191803045]\n",
      "[en:0.999996834316359]\n",
      "[en:0.999995490113061]\n",
      "[en:0.9999979931072414]\n",
      "[en:0.9999973588977294]\n",
      "[en:0.9999982461738122]\n",
      "[en:0.9999962469495248]\n",
      "[en:0.9999976814588867]\n",
      "[en:0.999998414540756]\n",
      "[en:0.9999936268562006]\n",
      "[en:0.9999973704970764]\n",
      "[en:0.9999991609967933]\n",
      "[en:0.999995307371948]\n",
      "[en:0.9999946838519556]\n",
      "[en:0.9999986535351227]\n",
      "[en:0.9999980863726596]\n",
      "[en:0.9999950462113802]\n",
      "[en:0.999995803419885]\n",
      "[en:0.9999965039485271]\n",
      "[en:0.9999949843038691]\n",
      "[en:0.9999964498341458]\n",
      "[en:0.999996381918032]\n",
      "[en:0.9999963322234838]\n",
      "[en:0.9999968582426461]\n",
      "[en:0.9999957419651451]\n",
      "[en:0.9999967837860144]\n",
      "[en:0.9999968738136095]\n"
     ]
    }
   ],
   "source": [
    "for ocr in UN_data.ocr[:100]:\n",
    "    if len(ocr)>0:\n",
    "        d = detect_langs(ocr[0])\n",
    "        print (d)"
   ]
  },
  {
   "cell_type": "code",
   "execution_count": 26,
   "metadata": {
    "collapsed": false
   },
   "outputs": [
    {
     "data": {
      "text/plain": [
       "00a12bd0-868e-11e7-b996-793f472f3939    [ACTIVITIS POR RGIONAL NURSES\\nThe Regional Nu...\n",
       "01399c50-8830-11e7-a26a-bfde76eb458e    [To Hug Lien\\nKEY MAP\\nLEGEND\\nchingshu\\nExist...\n",
       "01481d60-8692-11e7-82e0-793d0b92eb8a    [The office of Ohie t laepeetor serene that Do...\n",
       "01832320-9d52-11e7-8db9-89b3fb5d3002    [被日寇佔據之時,生命與財產\\n邊疆\\n大\\n島\\n的\\n台灣\\n一的損失很大,據穩健的估計...\n",
       "01910900-9d56-11e7-99cd-693026b34cc1    [(b) Ground-water development in the Yunlin an...\n",
       "01a3b010-8680-11e7-959a-af4859d82f28    [Iten\\npage 10\\nSodium Bromide\\nPhonoborbital\\...\n",
       "0227a5d0-8830-11e7-a26a-bfde76eb458e    [to pumps. The present syatem of open-world bi...\n",
       "02301190-8680-11e7-a29c-377faae4ace3    [Ageney Operating. Insti tution CNRRA\\nTree pa...\n",
       "0230e4d0-8694-11e7-83f3-cfc886473783    [1-\\nMay 22, 1946\\nMEKORA ND UD\\nTo:\\nFrom: Ea...\n",
       "0243d190-8689-11e7-a29c-377faae4ace3    [16 Angust 196.\\nSUBJEORs Wookly Operations Ge...\n",
       "024c8850-8682-11e7-959a-af4859d82f28    [1\\nAPPENDIX D\\nMEDIGAT, SCHOOrs, HOSPITALS AN...\n",
       "02d2d4a0-9d52-11e7-8db9-89b3fb5d3002    [被日寇佔據之時,生命與財產\\n邊疆大島的台灣\\n一的損失很大瘗的估計,\\n著\\n,財產的損...\n",
       "02d59910-8830-11e7-a26a-bfde76eb458e    [30. The vestern 811trvta2 pains here had floo...\n",
       "02f9c0d0-8699-11e7-83f3-cfc886473783    [UNRRA SHANGHAI REGIONAL OFFICE\\n6 February 19...\n",
       "0382c6e0-9d56-11e7-99cd-693026b34cc1    [D.\\nEquipment\\n14. The Plan of operation also...\n",
       "0461afe0-8686-11e7-a29c-377faae4ace3    [UNITED NATIONS\\nRELIEF AND REHABILITATION ADM...\n",
       "04c85a90-867e-11e7-a29c-377faae4ace3    [4.\\nonly fuat beon prosented in finnl forn fo...\n",
       "0534bec0-8830-11e7-af82-4b8455da77c9    [rrace deposit along the right abutment appear...\n",
       "05505d10-8830-11e7-a26a-bfde76eb458e    [laborst\\nconventently and praetteably. In the...\n",
       "0550b8e0-8688-11e7-a29c-377faae4ace3    [Page 2\\nDr. Sa unders mentioned thacfx the fa...\n",
       "05afac50-8689-11e7-a29c-377faae4ace3                                                   []\n",
       "05ba6210-8686-11e7-a29c-377faae4ace3    [Shanghats Regional Ottioe\\nMonthly lloport\\nJ...\n",
       "05f8ccc0-9d52-11e7-8db9-89b3fb5d3002    [牌、中國式的衣食習慣,被日\\n一呼這樣種種方法在企圖使台\\n一人抛棄與中國過去的連繫\\n台...\n",
       "06448110-8830-11e7-a26a-bfde76eb458e    [downstream a short distance. Three additional...\n",
       "067220c0-8830-11e7-af82-4b8455da77c9    [would be kept at Pefkang at all flood flows a...\n",
       "06c418a0-8680-11e7-a29c-377faae4ace3    [Agency Operating Inetitution CNRRA\\n501 200\\n...\n",
       "0735db50-8682-11e7-959a-af4859d82f28                         [凹4a\\nC4\\n뉘\\n, 凹, 4a, C4, 뉘]\n",
       "0741f2b0-8816-11e7-8dac-3977be5921bd    [Ohinese National\\nRelief and Rehabi11tation A...\n",
       "074414a0-9d56-11e7-99cd-693026b34cc1    [i. Mr. K. T. Chu, Director, Department of Wat...\n",
       "074b1a70-8816-11e7-8324-311680d37946    [Inventory of eupplies received from ONRRA thr...\n",
       "                                                              ...                        \n",
       "f971a110-8687-11e7-a2d8-93abb9b8aa7c    [t Director-General LeGuardia has drewa up a o...\n",
       "f97feb40-882f-11e7-ba12-49326dc41257    [changing river cross-sections. Low-flow recor...\n",
       "f98f5490-882f-11e7-a26a-bfde76eb458e    [fields in this area questionable. Irrigation ...\n",
       "f99ecb90-8687-11e7-a29c-377faae4ace3    [Dr. King made a pecial request for interni st...\n",
       "f9d83d00-8685-11e7-a29c-377faae4ace3    [otes on a Visit to KOFA. There were present: ...\n",
       "fa77f810-8688-11e7-a29c-377faae4ace3    [@줴\\nsuch projeo&a, tarnishing. a tar ss possi...\n",
       "fb153890-867f-11e7-959a-af4859d82f28    [Shantung\\nrs and whon thoy loft, many or the ...\n",
       "fb3b07b0-868d-11e7-b996-793f472f3939    [反12\\nFebruary 22nd, 1946.\\n2.\\nっ\\nTo\\nFRON\\nS...\n",
       "fb4b2790-867d-11e7-959a-af4859d82f28    [TAIWAN REGIONAL OFFICE\\nSPECIAL REPORT ON GOV...\n",
       "fb58f100-882f-11e7-ba12-49326dc41257    [in Tsiven in th\\ncouplesndequste bsste\\nsite ...\n",
       "fb779c90-882f-11e7-a26a-bfde76eb458e    [ENGINEERING GEOLOGY CHARTSET\\nTo Accompany En...\n",
       "fb9a8010-867d-11e7-a29c-377faae4ace3    [3.\\nThe cholert opldonie continues to nnoulde...\n",
       "fbc9db40-882f-11e7-af82-4b8455da77c9    [300,000 cubie metres (393,000 cubic yards) of...\n",
       "fc1ba2a0-9d55-11e7-99cd-693026b34cc1    [INTRODUCTION\\nAll streams run to the sea,\\nbu...\n",
       "fc37df50-882f-11e7-a26a-bfde76eb458e    [COMPARATIVE STATISTICS-TAIWAN PRINCIPAL RIVER...\n",
       "fca1e450-8685-11e7-a29c-377faae4ace3    [Shanghai Regional Offi0e\\nMonthly Report No. ...\n",
       "fcbd6a50-867f-11e7-959a-af4859d82f28    [page 9\\nHEGE.IAY EQU퍼 lih.:T\\nLin11\\nChefoo P...\n",
       "fd822ad0-8688-11e7-a29c-377faae4ace3    [Page 2\\nhow this problem was taken dsre of wd...\n",
       "fda5bb90-868c-11e7-82e0-793d0b92eb8a    [Page 3.\\nI should l1le to goo a College ot Mu...\n",
       "fda857d0-8685-11e7-a29c-377faae4ace3                       [보\"㎡\\n貸\\n0-\\n, 보, \", ㎡, 貸, 0-]\n",
       "fdb55790-882f-11e7-a26a-bfde76eb458e    [CONTENTS (Continued)\\n11· FLOOD FREQUENCY CUR...\n",
       "fe018870-8692-11e7-82e0-793d0b92eb8a    [magsi mprocess . Transfer of one Progran pers...\n",
       "fe0d9660-8692-11e7-83f3-cfc886473783    [MEMORANDU\\n6 NOV 1946\\nTo\\n: General Glen E. ...\n",
       "fe318a50-9d55-11e7-99cd-693026b34cc1    [6. Eacn expert has, of course, been primarily...\n",
       "fe9de2d0-882f-11e7-a26a-bfde76eb458e    [per second corresponds to a run-off of about ...\n",
       "feec3690-8692-11e7-83f3-cfc886473783    [12 Deoembez, 1946.\\nKMORANDUM\\nMajor-General\\...\n",
       "ff00dc90-867d-11e7-a29c-377faae4ace3    [Pcod enough and' sufficient water was ave ila...\n",
       "ff169c90-867f-11e7-959a-af4859d82f28    [ing progran personhel for teaching purposes a...\n",
       "ff41eb00-882f-11e7-af82-4b8455da77c9    [50. No aress seem to be justified as retardin...\n",
       "fff00550-882f-11e7-a26a-bfde76eb458e    [ーフ\\nTABLE OF RESERVOURS\\nMark Name of Reserva...\n",
       "Name: ocr, Length: 1377, dtype: object"
      ]
     },
     "execution_count": 26,
     "metadata": {},
     "output_type": "execute_result"
    }
   ],
   "source": [
    "UN_data.ocr"
   ]
  }
 ],
 "metadata": {
  "anaconda-cloud": {},
  "kernelspec": {
   "display_name": "Python [conda env:NLP]",
   "language": "python",
   "name": "conda-env-NLP-py"
  },
  "language_info": {
   "codemirror_mode": {
    "name": "ipython",
    "version": 3
   },
   "file_extension": ".py",
   "mimetype": "text/x-python",
   "name": "python",
   "nbconvert_exporter": "python",
   "pygments_lexer": "ipython3",
   "version": "3.6.2"
  }
 },
 "nbformat": 4,
 "nbformat_minor": 1
}
