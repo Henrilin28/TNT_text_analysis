{
 "cells": [
  {
   "cell_type": "code",
   "execution_count": 1,
   "metadata": {
    "collapsed": false
   },
   "outputs": [],
   "source": [
    "mess = 'fi yuo cna raed this, yuo hvae a sgtrane mnid too. \\\n",
    "I cdnuolt blveiee taht i cluod aulacity uesdnatnrd waht i was erdanieg. \\\n",
    "The phaonmneal pweor of the hmuan mnid, aoccdrnig to a rscheearch at Cmabrigde Uivervtisy \\\n",
    "it dsenot matartr in waht oerdr th ltteres in a wrod are, the olny iproamtnt tihng \\\n",
    "is taht the frsit and lsat ltteer be in the rghit pclae.\\\n",
    "the rset can be a taotl mses and you can sitll raed it whotuit a pboerim.\\\n",
    "tihs is bcuseae the huamn mnid deos not raed every llteter by istlef, but the wrod as a wlohe.\\\n",
    "Azanmig huh? yaeh and i awlyas tghuhot slpeling was ipmorantt! if you can raed this. Share it'\n",
    "\n",
    "text = 'if you can read this, you have a strong mind too.\\\n",
    "i couldnt believe that i could actually understand what i was reading.\\\n",
    "the phenomenon power of the human mind, according to a researcher at Cambrigde University\\\n",
    "it doesnt matter in what order the letters in a word are, the only important thing\\\n",
    "is that the first and last ltteet be in the right place.\\\n",
    "the rest can be total mess and you can still read it without a problem.\\\n",
    "this is because the human mind does not read every letter by itself, but the word as a whole.\\\n",
    "amazing huh? yeah and i always thought spelling was important! if you can read this, Share it.'"
   ]
  },
  {
   "cell_type": "code",
   "execution_count": 2,
   "metadata": {
    "collapsed": true
   },
   "outputs": [],
   "source": [
    "import spelling_correction as sc\n",
    "mess_word = sc.words(mess)\n",
    "text_word = sc.words(text)\n",
    "corrected = [sc.correction(w) for w in mess_word]"
   ]
  },
  {
   "cell_type": "code",
   "execution_count": 3,
   "metadata": {
    "collapsed": false
   },
   "outputs": [
    {
     "data": {
      "text/plain": [
       "'itself'"
      ]
     },
     "execution_count": 3,
     "metadata": {},
     "output_type": "execute_result"
    }
   ],
   "source": [
    "sc.correction('itlef')"
   ]
  },
  {
   "cell_type": "code",
   "execution_count": 4,
   "metadata": {
    "collapsed": false
   },
   "outputs": [
    {
     "data": {
      "text/plain": [
       "117"
      ]
     },
     "execution_count": 4,
     "metadata": {},
     "output_type": "execute_result"
    }
   ],
   "source": [
    "len(corrected)"
   ]
  },
  {
   "cell_type": "code",
   "execution_count": 5,
   "metadata": {
    "collapsed": false
   },
   "outputs": [
    {
     "data": {
      "text/plain": [
       "'i you can red this you have a strange mind too i cdnuolt blveiee that i cloud audacity uesdnatnrd what i was erdanieg the phaonmneal power of the human mind aoccdrnig to a rscheearch at cambridge uivervtisy it sent matartr in what order th letters in a word are the only iproamtnt thing is that the fruit and last later be in the right place the set can be a tall mess and you can still red it whotuit a pboerim this is bcuseae the human mind does not red every letter by itself but the word as a whole azanmig hut yeah and i always tghuhot sleeping was ipmorantt if you can red this share it'"
      ]
     },
     "execution_count": 5,
     "metadata": {},
     "output_type": "execute_result"
    }
   ],
   "source": [
    "\" \".join(corrected)"
   ]
  }
 ],
 "metadata": {
  "anaconda-cloud": {},
  "kernelspec": {
   "display_name": "Python [conda env:NLP]",
   "language": "python",
   "name": "conda-env-NLP-py"
  },
  "language_info": {
   "codemirror_mode": {
    "name": "ipython",
    "version": 3
   },
   "file_extension": ".py",
   "mimetype": "text/x-python",
   "name": "python",
   "nbconvert_exporter": "python",
   "pygments_lexer": "ipython3",
   "version": "3.6.2"
  }
 },
 "nbformat": 4,
 "nbformat_minor": 1
}
